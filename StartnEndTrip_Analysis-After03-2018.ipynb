{
 "cells": [
  {
   "cell_type": "code",
   "execution_count": 2,
   "metadata": {},
   "outputs": [
    {
     "name": "stdout",
     "output_type": "stream",
     "text": [
      "156602 Starting/Ending trip bike events.\n",
      "24 unique Latitude Coordinates.\n",
      "24 unique Longitude Coordinates.\n"
     ]
    }
   ],
   "source": [
    "import pandas as pd\n",
    "import seaborn as sns\n",
    "import matplotlib.pyplot as plt\n",
    "import folium\n",
    "from datetime import datetime\n",
    "df = pd.read_csv('../data/mbike_NamedStations_StartEndOnly.csv', index_col=0)\n",
    "\n",
    "print(str(len(df.index)) + \" Starting/Ending trip bike events.\")\n",
    "print(str(len(df.Coords_Latitude.unique())) + \" unique Latitude Coordinates.\")\n",
    "print(str(len(df.Coords_Longitude.unique())) + \" unique Longitude Coordinates.\")\n"
   ]
  },
  {
   "cell_type": "markdown",
   "metadata": {},
   "source": [
    "## We will convert the current data_time to a python datetime object, then get the day of the week this corresponds to. "
   ]
  },
  {
   "cell_type": "code",
   "execution_count": 3,
   "metadata": {},
   "outputs": [
    {
     "data": {
      "text/html": [
       "<div>\n",
       "<style scoped>\n",
       "    .dataframe tbody tr th:only-of-type {\n",
       "        vertical-align: middle;\n",
       "    }\n",
       "\n",
       "    .dataframe tbody tr th {\n",
       "        vertical-align: top;\n",
       "    }\n",
       "\n",
       "    .dataframe thead th {\n",
       "        text-align: right;\n",
       "    }\n",
       "</style>\n",
       "<table border=\"1\" class=\"dataframe\">\n",
       "  <thead>\n",
       "    <tr style=\"text-align: right;\">\n",
       "      <th></th>\n",
       "      <th>Coords_Latitude</th>\n",
       "      <th>Coords_Longitude</th>\n",
       "      <th>Trip_ID</th>\n",
       "      <th>Bike_Event</th>\n",
       "      <th>User_ID</th>\n",
       "      <th>Date_Time</th>\n",
       "      <th>Date</th>\n",
       "      <th>Time</th>\n",
       "      <th>StationName</th>\n",
       "      <th>Day</th>\n",
       "    </tr>\n",
       "  </thead>\n",
       "  <tbody>\n",
       "    <tr>\n",
       "      <th>0</th>\n",
       "      <td>38.978129</td>\n",
       "      <td>-76.929079</td>\n",
       "      <td>Hf3aj78RcGaJJMGRn</td>\n",
       "      <td>StartTrip</td>\n",
       "      <td>24Tswou857XKT9R65</td>\n",
       "      <td>2017-06-14 19:02:21</td>\n",
       "      <td>2017-06-14</td>\n",
       "      <td>19:02:21</td>\n",
       "      <td>College Park Metro West</td>\n",
       "      <td>2</td>\n",
       "    </tr>\n",
       "  </tbody>\n",
       "</table>\n",
       "</div>"
      ],
      "text/plain": [
       "   Coords_Latitude  Coords_Longitude            Trip_ID Bike_Event  \\\n",
       "0        38.978129        -76.929079  Hf3aj78RcGaJJMGRn  StartTrip   \n",
       "\n",
       "             User_ID           Date_Time        Date      Time  \\\n",
       "0  24Tswou857XKT9R65 2017-06-14 19:02:21  2017-06-14  19:02:21   \n",
       "\n",
       "               StationName  Day  \n",
       "0  College Park Metro West    2  "
      ]
     },
     "execution_count": 3,
     "metadata": {},
     "output_type": "execute_result"
    }
   ],
   "source": [
    "def fixDateTime(row):\n",
    "    s = row['Date_Time'].split(\"T\")\n",
    "    t = s[1].split(\".\")[0]\n",
    "    date = s[0]\n",
    "    datetime = date +\" \" + t\n",
    "    #print(date)\n",
    "    return pd.Series([datetime])\n",
    "\n",
    "df[['Date_Time']] = df.apply(fixDateTime, axis=1)\n",
    "df['Date_Time'] = pd.to_datetime(df['Date_Time'], errors='coerce')\n",
    "df['Day'] = pd.to_datetime(df['Date_Time']).dt.dayofweek\n",
    "df.head(1)"
   ]
  },
  {
   "cell_type": "code",
   "execution_count": 4,
   "metadata": {},
   "outputs": [
    {
     "data": {
      "text/html": [
       "<div>\n",
       "<style scoped>\n",
       "    .dataframe tbody tr th:only-of-type {\n",
       "        vertical-align: middle;\n",
       "    }\n",
       "\n",
       "    .dataframe tbody tr th {\n",
       "        vertical-align: top;\n",
       "    }\n",
       "\n",
       "    .dataframe thead th {\n",
       "        text-align: right;\n",
       "    }\n",
       "</style>\n",
       "<table border=\"1\" class=\"dataframe\">\n",
       "  <thead>\n",
       "    <tr style=\"text-align: right;\">\n",
       "      <th></th>\n",
       "      <th>Coords_Latitude</th>\n",
       "      <th>Coords_Longitude</th>\n",
       "      <th>Trip_ID</th>\n",
       "      <th>Bike_Event</th>\n",
       "      <th>User_ID</th>\n",
       "      <th>Date_Time</th>\n",
       "      <th>Date</th>\n",
       "      <th>Time</th>\n",
       "      <th>StationName</th>\n",
       "      <th>Day</th>\n",
       "    </tr>\n",
       "  </thead>\n",
       "  <tbody>\n",
       "    <tr>\n",
       "      <th>0</th>\n",
       "      <td>38.978129</td>\n",
       "      <td>-76.929079</td>\n",
       "      <td>Hf3aj78RcGaJJMGRn</td>\n",
       "      <td>StartTrip</td>\n",
       "      <td>24Tswou857XKT9R65</td>\n",
       "      <td>2017-06-14 19:02:21</td>\n",
       "      <td>2017-06-14</td>\n",
       "      <td>19:02:21</td>\n",
       "      <td>College Park Metro West</td>\n",
       "      <td>2</td>\n",
       "    </tr>\n",
       "    <tr>\n",
       "      <th>1</th>\n",
       "      <td>38.978129</td>\n",
       "      <td>-76.929079</td>\n",
       "      <td>tp7QKuiJX9DvLKDcf</td>\n",
       "      <td>StartTrip</td>\n",
       "      <td>24Tswou857XKT9R65</td>\n",
       "      <td>2017-06-15 20:07:14</td>\n",
       "      <td>2017-06-15</td>\n",
       "      <td>20:07:14</td>\n",
       "      <td>College Park Metro West</td>\n",
       "      <td>3</td>\n",
       "    </tr>\n",
       "    <tr>\n",
       "      <th>2</th>\n",
       "      <td>38.972794</td>\n",
       "      <td>-76.938213</td>\n",
       "      <td>tp7QKuiJX9DvLKDcf</td>\n",
       "      <td>EndTripInsideGeofence</td>\n",
       "      <td>24Tswou857XKT9R65</td>\n",
       "      <td>2017-06-15 20:19:43</td>\n",
       "      <td>2017-06-15</td>\n",
       "      <td>20:19:43</td>\n",
       "      <td>Queens Chapel</td>\n",
       "      <td>3</td>\n",
       "    </tr>\n",
       "    <tr>\n",
       "      <th>3</th>\n",
       "      <td>38.978129</td>\n",
       "      <td>-76.929079</td>\n",
       "      <td>j7xEWoy65rDsJfk7M</td>\n",
       "      <td>StartTrip</td>\n",
       "      <td>24Tswou857XKT9R65</td>\n",
       "      <td>2017-06-17 22:25:55</td>\n",
       "      <td>2017-06-17</td>\n",
       "      <td>22:25:55</td>\n",
       "      <td>College Park Metro West</td>\n",
       "      <td>5</td>\n",
       "    </tr>\n",
       "    <tr>\n",
       "      <th>4</th>\n",
       "      <td>38.972794</td>\n",
       "      <td>-76.938213</td>\n",
       "      <td>j7xEWoy65rDsJfk7M</td>\n",
       "      <td>EndTripInsideGeofence</td>\n",
       "      <td>24Tswou857XKT9R65</td>\n",
       "      <td>2017-06-17 22:36:07</td>\n",
       "      <td>2017-06-17</td>\n",
       "      <td>22:36:07</td>\n",
       "      <td>Queens Chapel</td>\n",
       "      <td>5</td>\n",
       "    </tr>\n",
       "  </tbody>\n",
       "</table>\n",
       "</div>"
      ],
      "text/plain": [
       "   Coords_Latitude  Coords_Longitude            Trip_ID  \\\n",
       "0        38.978129        -76.929079  Hf3aj78RcGaJJMGRn   \n",
       "1        38.978129        -76.929079  tp7QKuiJX9DvLKDcf   \n",
       "2        38.972794        -76.938213  tp7QKuiJX9DvLKDcf   \n",
       "3        38.978129        -76.929079  j7xEWoy65rDsJfk7M   \n",
       "4        38.972794        -76.938213  j7xEWoy65rDsJfk7M   \n",
       "\n",
       "              Bike_Event            User_ID           Date_Time        Date  \\\n",
       "0              StartTrip  24Tswou857XKT9R65 2017-06-14 19:02:21  2017-06-14   \n",
       "1              StartTrip  24Tswou857XKT9R65 2017-06-15 20:07:14  2017-06-15   \n",
       "2  EndTripInsideGeofence  24Tswou857XKT9R65 2017-06-15 20:19:43  2017-06-15   \n",
       "3              StartTrip  24Tswou857XKT9R65 2017-06-17 22:25:55  2017-06-17   \n",
       "4  EndTripInsideGeofence  24Tswou857XKT9R65 2017-06-17 22:36:07  2017-06-17   \n",
       "\n",
       "       Time              StationName  Day  \n",
       "0  19:02:21  College Park Metro West    2  \n",
       "1  20:07:14  College Park Metro West    3  \n",
       "2  20:19:43            Queens Chapel    3  \n",
       "3  22:25:55  College Park Metro West    5  \n",
       "4  22:36:07            Queens Chapel    5  "
      ]
     },
     "execution_count": 4,
     "metadata": {},
     "output_type": "execute_result"
    }
   ],
   "source": [
    "#df['TimeofDay'] = pd.to_datetime(df['Date_Time']).dt.dayofweek\n",
    "df.head(5)"
   ]
  },
  {
   "cell_type": "code",
   "execution_count": 5,
   "metadata": {},
   "outputs": [
    {
     "data": {
      "text/plain": [
       "<matplotlib.axes._subplots.AxesSubplot at 0x7fa788ae2940>"
      ]
     },
     "execution_count": 5,
     "metadata": {},
     "output_type": "execute_result"
    },
    {
     "data": {
      "image/png": "[encoded data removed]",
      "text/plain": [
       "<Figure size 432x288 with 1 Axes>"
      ]
     },
     "metadata": {
      "needs_background": "light"
     },
     "output_type": "display_data"
    }
   ],
   "source": [
    "sns.countplot(x=\"Day\", data= df)"
   ]
  },
  {
   "cell_type": "code",
   "execution_count": 6,
   "metadata": {},
   "outputs": [
    {
     "name": "stderr",
     "output_type": "stream",
     "text": [
      "/home/luc/anaconda3/lib/python3.7/site-packages/scipy/stats/stats.py:1713: FutureWarning: Using a non-tuple sequence for multidimensional indexing is deprecated; use `arr[tuple(seq)]` instead of `arr[seq]`. In the future this will be interpreted as an array index, `arr[np.array(seq)]`, which will result either in an error or a different result.\n",
      "  return np.add.reduce(sorted[indexer] * weights, axis=axis) / sumval\n"
     ]
    },
    {
     "data": {
      "text/plain": [
       "(0, 400)"
      ]
     },
     "execution_count": 6,
     "metadata": {},
     "output_type": "execute_result"
    },
    {
     "data": {
      "image/png": "[encoded data removed]",
      "text/plain": [
       "<Figure size 432x288 with 1 Axes>"
      ]
     },
     "metadata": {
      "needs_background": "light"
     },
     "output_type": "display_data"
    }
   ],
   "source": [
    "sns.distplot(df['User_ID'].value_counts()[:], norm_hist=False, kde=False)\n",
    "plt.xlim(0,400)"
   ]
  },
  {
   "cell_type": "code",
   "execution_count": 7,
   "metadata": {},
   "outputs": [
    {
     "data": {
      "text/plain": [
       "0    2\n",
       "1    3\n",
       "2    3\n",
       "3    5\n",
       "4    5\n",
       "Name: Date_Time, dtype: int64"
      ]
     },
     "execution_count": 7,
     "metadata": {},
     "output_type": "execute_result"
    }
   ],
   "source": [
    "df.head(5).Date_Time.dt.dayofweek"
   ]
  },
  {
   "cell_type": "code",
   "execution_count": 8,
   "metadata": {},
   "outputs": [
    {
     "data": {
      "text/plain": [
       "<matplotlib.axes._subplots.AxesSubplot at 0x7fa756b82e48>"
      ]
     },
     "execution_count": 8,
     "metadata": {},
     "output_type": "execute_result"
    },
    {
     "data": {
      "image/png": "[encoded data removed]",
      "text/plain": [
       "<Figure size 1440x720 with 1 Axes>"
      ]
     },
     "metadata": {
      "needs_background": "light"
     },
     "output_type": "display_data"
    }
   ],
   "source": [
    "plt.rcParams['figure.figsize'] = [20, 10]\n",
    "sns.countplot(df.Bike_Event)"
   ]
  },
  {
   "cell_type": "code",
   "execution_count": 9,
   "metadata": {},
   "outputs": [
    {
     "data": {
      "text/plain": [
       "StartTrip                   77600\n",
       "EndTripInsideGeofence       58665\n",
       "EndTripStoppedByGeofence    10357\n",
       "EndTripBypassGeofence        9980\n",
       "Name: Bike_Event, dtype: int64"
      ]
     },
     "execution_count": 9,
     "metadata": {},
     "output_type": "execute_result"
    }
   ],
   "source": [
    "df.Bike_Event.value_counts()"
   ]
  },
  {
   "cell_type": "code",
   "execution_count": 10,
   "metadata": {},
   "outputs": [
    {
     "data": {
      "image/png": "[encoded data removed]",
      "text/plain": [
       "<Figure size 1440x1080 with 1 Axes>"
      ]
     },
     "metadata": {
      "needs_background": "light"
     },
     "output_type": "display_data"
    }
   ],
   "source": [
    "plt.rcParams['figure.figsize'] = [20, 15]\n",
    "ax = sns.countplot(y=\"StationName\", data=df)"
   ]
  },
  {
   "cell_type": "code",
   "execution_count": null,
   "metadata": {},
   "outputs": [],
   "source": []
  },
  {
   "cell_type": "code",
   "execution_count": 11,
   "metadata": {},
   "outputs": [
    {
     "data": {
      "text/html": [
       "<div>\n",
       "<style scoped>\n",
       "    .dataframe tbody tr th:only-of-type {\n",
       "        vertical-align: middle;\n",
       "    }\n",
       "\n",
       "    .dataframe tbody tr th {\n",
       "        vertical-align: top;\n",
       "    }\n",
       "\n",
       "    .dataframe thead th {\n",
       "        text-align: right;\n",
       "    }\n",
       "</style>\n",
       "<table border=\"1\" class=\"dataframe\">\n",
       "  <thead>\n",
       "    <tr style=\"text-align: right;\">\n",
       "      <th></th>\n",
       "      <th>Name</th>\n",
       "      <th>Altitude</th>\n",
       "      <th>Longitude</th>\n",
       "      <th>Latitude</th>\n",
       "    </tr>\n",
       "  </thead>\n",
       "  <tbody>\n",
       "    <tr>\n",
       "      <th>0</th>\n",
       "      <td>Hollywood Shopping Center</td>\n",
       "      <td>42</td>\n",
       "      <td>-76.921340</td>\n",
       "      <td>39.013710</td>\n",
       "    </tr>\n",
       "    <tr>\n",
       "      <th>1</th>\n",
       "      <td>Greenbelt Metro West</td>\n",
       "      <td>30</td>\n",
       "      <td>-76.913859</td>\n",
       "      <td>39.010546</td>\n",
       "    </tr>\n",
       "    <tr>\n",
       "      <th>2</th>\n",
       "      <td>Monument Village</td>\n",
       "      <td>40</td>\n",
       "      <td>-76.930522</td>\n",
       "      <td>39.004601</td>\n",
       "    </tr>\n",
       "  </tbody>\n",
       "</table>\n",
       "</div>"
      ],
      "text/plain": [
       "                        Name  Altitude  Longitude   Latitude\n",
       "0  Hollywood Shopping Center        42 -76.921340  39.013710\n",
       "1       Greenbelt Metro West        30 -76.913859  39.010546\n",
       "2           Monument Village        40 -76.930522  39.004601"
      ]
     },
     "execution_count": 11,
     "metadata": {},
     "output_type": "execute_result"
    }
   ],
   "source": [
    "dfStation = pd.read_csv('../data/stationsInfo.csv')\n",
    "dfStation.head(3)"
   ]
  },
  {
   "cell_type": "code",
   "execution_count": 12,
   "metadata": {},
   "outputs": [
    {
     "data": {
      "image/png": "[encoded data removed]",
      "text/plain": [
       "<Figure size 1440x1080 with 1 Axes>"
      ]
     },
     "metadata": {
      "needs_background": "light"
     },
     "output_type": "display_data"
    }
   ],
   "source": [
    "#sns.countplot(y=\"StationName\")\n",
    "ax = sns.barplot(y=\"Name\", x=\"Altitude\", data=dfStation)"
   ]
  },
  {
   "cell_type": "code",
   "execution_count": 13,
   "metadata": {},
   "outputs": [
    {
     "data": {
      "text/html": [
       "<div>\n",
       "<style scoped>\n",
       "    .dataframe tbody tr th:only-of-type {\n",
       "        vertical-align: middle;\n",
       "    }\n",
       "\n",
       "    .dataframe tbody tr th {\n",
       "        vertical-align: top;\n",
       "    }\n",
       "\n",
       "    .dataframe thead th {\n",
       "        text-align: right;\n",
       "    }\n",
       "</style>\n",
       "<table border=\"1\" class=\"dataframe\">\n",
       "  <thead>\n",
       "    <tr style=\"text-align: right;\">\n",
       "      <th></th>\n",
       "      <th>Coords_Latitude</th>\n",
       "      <th>Coords_Longitude</th>\n",
       "      <th>Trip_ID</th>\n",
       "      <th>Bike_Event</th>\n",
       "      <th>User_ID</th>\n",
       "      <th>Date_Time</th>\n",
       "      <th>Date</th>\n",
       "      <th>Time</th>\n",
       "      <th>StationName</th>\n",
       "      <th>Day</th>\n",
       "    </tr>\n",
       "  </thead>\n",
       "  <tbody>\n",
       "    <tr>\n",
       "      <th>0</th>\n",
       "      <td>38.978129</td>\n",
       "      <td>-76.929079</td>\n",
       "      <td>Hf3aj78RcGaJJMGRn</td>\n",
       "      <td>StartTrip</td>\n",
       "      <td>24Tswou857XKT9R65</td>\n",
       "      <td>2017-06-14 19:02:21</td>\n",
       "      <td>2017-06-14</td>\n",
       "      <td>19:02:21</td>\n",
       "      <td>College Park Metro West</td>\n",
       "      <td>2</td>\n",
       "    </tr>\n",
       "    <tr>\n",
       "      <th>1</th>\n",
       "      <td>38.978129</td>\n",
       "      <td>-76.929079</td>\n",
       "      <td>tp7QKuiJX9DvLKDcf</td>\n",
       "      <td>StartTrip</td>\n",
       "      <td>24Tswou857XKT9R65</td>\n",
       "      <td>2017-06-15 20:07:14</td>\n",
       "      <td>2017-06-15</td>\n",
       "      <td>20:07:14</td>\n",
       "      <td>College Park Metro West</td>\n",
       "      <td>3</td>\n",
       "    </tr>\n",
       "    <tr>\n",
       "      <th>2</th>\n",
       "      <td>38.972794</td>\n",
       "      <td>-76.938213</td>\n",
       "      <td>tp7QKuiJX9DvLKDcf</td>\n",
       "      <td>EndTripInsideGeofence</td>\n",
       "      <td>24Tswou857XKT9R65</td>\n",
       "      <td>2017-06-15 20:19:43</td>\n",
       "      <td>2017-06-15</td>\n",
       "      <td>20:19:43</td>\n",
       "      <td>Queens Chapel</td>\n",
       "      <td>3</td>\n",
       "    </tr>\n",
       "    <tr>\n",
       "      <th>3</th>\n",
       "      <td>38.978129</td>\n",
       "      <td>-76.929079</td>\n",
       "      <td>j7xEWoy65rDsJfk7M</td>\n",
       "      <td>StartTrip</td>\n",
       "      <td>24Tswou857XKT9R65</td>\n",
       "      <td>2017-06-17 22:25:55</td>\n",
       "      <td>2017-06-17</td>\n",
       "      <td>22:25:55</td>\n",
       "      <td>College Park Metro West</td>\n",
       "      <td>5</td>\n",
       "    </tr>\n",
       "    <tr>\n",
       "      <th>4</th>\n",
       "      <td>38.972794</td>\n",
       "      <td>-76.938213</td>\n",
       "      <td>j7xEWoy65rDsJfk7M</td>\n",
       "      <td>EndTripInsideGeofence</td>\n",
       "      <td>24Tswou857XKT9R65</td>\n",
       "      <td>2017-06-17 22:36:07</td>\n",
       "      <td>2017-06-17</td>\n",
       "      <td>22:36:07</td>\n",
       "      <td>Queens Chapel</td>\n",
       "      <td>5</td>\n",
       "    </tr>\n",
       "  </tbody>\n",
       "</table>\n",
       "</div>"
      ],
      "text/plain": [
       "   Coords_Latitude  Coords_Longitude            Trip_ID  \\\n",
       "0        38.978129        -76.929079  Hf3aj78RcGaJJMGRn   \n",
       "1        38.978129        -76.929079  tp7QKuiJX9DvLKDcf   \n",
       "2        38.972794        -76.938213  tp7QKuiJX9DvLKDcf   \n",
       "3        38.978129        -76.929079  j7xEWoy65rDsJfk7M   \n",
       "4        38.972794        -76.938213  j7xEWoy65rDsJfk7M   \n",
       "\n",
       "              Bike_Event            User_ID           Date_Time        Date  \\\n",
       "0              StartTrip  24Tswou857XKT9R65 2017-06-14 19:02:21  2017-06-14   \n",
       "1              StartTrip  24Tswou857XKT9R65 2017-06-15 20:07:14  2017-06-15   \n",
       "2  EndTripInsideGeofence  24Tswou857XKT9R65 2017-06-15 20:19:43  2017-06-15   \n",
       "3              StartTrip  24Tswou857XKT9R65 2017-06-17 22:25:55  2017-06-17   \n",
       "4  EndTripInsideGeofence  24Tswou857XKT9R65 2017-06-17 22:36:07  2017-06-17   \n",
       "\n",
       "       Time              StationName  Day  \n",
       "0  19:02:21  College Park Metro West    2  \n",
       "1  20:07:14  College Park Metro West    3  \n",
       "2  20:19:43            Queens Chapel    3  \n",
       "3  22:25:55  College Park Metro West    5  \n",
       "4  22:36:07            Queens Chapel    5  "
      ]
     },
     "execution_count": 13,
     "metadata": {},
     "output_type": "execute_result"
    }
   ],
   "source": [
    "df.head(5)"
   ]
  },
  {
   "cell_type": "code",
   "execution_count": 103,
   "metadata": {},
   "outputs": [
    {
     "name": "stdout",
     "output_type": "stream",
     "text": [
      "104031\n"
     ]
    }
   ],
   "source": [
    "#Original length of start+end trip events (~156000)\n",
    "df = df[df['Date_Time'] > datetime(2018,3,1)] #After 03/2018 had 23 stations!!!!\n",
    "print(len(df.index)) # 104031\n",
    "#print(df[df['Date_Time'] > datetime(2017,3,1)].Date_Time)"
   ]
  },
  {
   "cell_type": "code",
   "execution_count": 91,
   "metadata": {},
   "outputs": [
    {
     "name": "stdout",
     "output_type": "stream",
     "text": [
      "0.9861962311701701\n"
     ]
    },
    {
     "data": {
      "text/html": [
       "<div>\n",
       "<style scoped>\n",
       "    .dataframe tbody tr th:only-of-type {\n",
       "        vertical-align: middle;\n",
       "    }\n",
       "\n",
       "    .dataframe tbody tr th {\n",
       "        vertical-align: top;\n",
       "    }\n",
       "\n",
       "    .dataframe thead th {\n",
       "        text-align: right;\n",
       "    }\n",
       "</style>\n",
       "<table border=\"1\" class=\"dataframe\">\n",
       "  <thead>\n",
       "    <tr style=\"text-align: right;\">\n",
       "      <th></th>\n",
       "      <th>Coords_Latitude</th>\n",
       "      <th>Coords_Longitude</th>\n",
       "      <th>Trip_ID</th>\n",
       "      <th>Bike_Event</th>\n",
       "      <th>User_ID</th>\n",
       "      <th>Date_Time</th>\n",
       "      <th>Date</th>\n",
       "      <th>Time</th>\n",
       "      <th>StationName</th>\n",
       "      <th>Day</th>\n",
       "    </tr>\n",
       "  </thead>\n",
       "  <tbody>\n",
       "    <tr>\n",
       "      <th>3289</th>\n",
       "      <td>38.978129</td>\n",
       "      <td>-76.929079</td>\n",
       "      <td>ejjmjSNr54JWH9max</td>\n",
       "      <td>StartTrip</td>\n",
       "      <td>292B39TcJhzNwQuDf</td>\n",
       "      <td>2018-04-24 12:01:19</td>\n",
       "      <td>2018-04-24</td>\n",
       "      <td>12:01:19</td>\n",
       "      <td>College Park Metro West</td>\n",
       "      <td>1</td>\n",
       "    </tr>\n",
       "    <tr>\n",
       "      <th>3323</th>\n",
       "      <td>38.989979</td>\n",
       "      <td>-76.940757</td>\n",
       "      <td>qpZpMNkiJkJ4vmBpB</td>\n",
       "      <td>StartTrip</td>\n",
       "      <td>292B39TcJhzNwQuDf</td>\n",
       "      <td>2018-04-25 20:43:46</td>\n",
       "      <td>2018-04-25</td>\n",
       "      <td>20:43:46</td>\n",
       "      <td>Regents Drive</td>\n",
       "      <td>2</td>\n",
       "    </tr>\n",
       "  </tbody>\n",
       "</table>\n",
       "</div>"
      ],
      "text/plain": [
       "      Coords_Latitude  Coords_Longitude            Trip_ID Bike_Event  \\\n",
       "3289        38.978129        -76.929079  ejjmjSNr54JWH9max  StartTrip   \n",
       "3323        38.989979        -76.940757  qpZpMNkiJkJ4vmBpB  StartTrip   \n",
       "\n",
       "                User_ID           Date_Time        Date      Time  \\\n",
       "3289  292B39TcJhzNwQuDf 2018-04-24 12:01:19  2018-04-24  12:01:19   \n",
       "3323  292B39TcJhzNwQuDf 2018-04-25 20:43:46  2018-04-25  20:43:46   \n",
       "\n",
       "                  StationName  Day  \n",
       "3289  College Park Metro West    1  \n",
       "3323            Regents Drive    2  "
      ]
     },
     "execution_count": 91,
     "metadata": {},
     "output_type": "execute_result"
    }
   ],
   "source": [
    "# Split into Start/Ends\n",
    "# keep only if after 03/2018 ******\n",
    "dfStart = df[df[\"Bike_Event\"] == 'StartTrip'] # 51654\n",
    "dfEnd = df[df[\"Bike_Event\"]!= 'StartTrip']  # 52377,\n",
    "# So, -723 (More ends than starts). Weight for ends:\n",
    "print(len(dfStart.index)/len(dfEnd.index))\n",
    "weight = len(dfStart.index)/len(dfEnd.index)\n",
    "dfStart.head(2)"
   ]
  },
  {
   "cell_type": "code",
   "execution_count": 61,
   "metadata": {},
   "outputs": [],
   "source": [
    "#How correlated is altitude to usage?\n",
    "\n",
    "dfPlot = pd.DataFrame(dfStart.StationName.value_counts())#Returns a series in descending order, converts to df\n",
    "dfPlot1 = pd.DataFrame(dfEnd.StationName.value_counts())\n",
    "dfPlot.columns = ['StartFreq']\n",
    "dfPlot1.columns = ['EndFreq']\n",
    "# dfmergeSE consists of Stations and info, and the number of start/end trips.\n",
    "dfmergeS = dfStation.join(dfPlot, on='Name')\n",
    "dfmergeSE = dfmergeS.join(dfPlot1, on='Name')\n",
    "dfmergeSE['Diff'] = dfmergeSE['StartFreq']-dfmergeSE['EndFreq']\n",
    "dfmergeSE['Total'] = dfmergeSE['StartFreq']+dfmergeSE['EndFreq']"
   ]
  },
  {
   "cell_type": "code",
   "execution_count": 105,
   "metadata": {},
   "outputs": [
    {
     "data": {
      "text/html": [
       "<div>\n",
       "<style scoped>\n",
       "    .dataframe tbody tr th:only-of-type {\n",
       "        vertical-align: middle;\n",
       "    }\n",
       "\n",
       "    .dataframe tbody tr th {\n",
       "        vertical-align: top;\n",
       "    }\n",
       "\n",
       "    .dataframe thead th {\n",
       "        text-align: right;\n",
       "    }\n",
       "</style>\n",
       "<table border=\"1\" class=\"dataframe\">\n",
       "  <thead>\n",
       "    <tr style=\"text-align: right;\">\n",
       "      <th></th>\n",
       "      <th>Name</th>\n",
       "      <th>Altitude</th>\n",
       "      <th>Longitude</th>\n",
       "      <th>Latitude</th>\n",
       "      <th>StartFreq</th>\n",
       "      <th>EndFreq</th>\n",
       "      <th>Diff</th>\n",
       "      <th>Total</th>\n",
       "      <th>Diff_Norm</th>\n",
       "    </tr>\n",
       "  </thead>\n",
       "  <tbody>\n",
       "    <tr>\n",
       "      <th>0</th>\n",
       "      <td>Hollywood Shopping Center</td>\n",
       "      <td>42</td>\n",
       "      <td>-76.921340</td>\n",
       "      <td>39.013710</td>\n",
       "      <td>803</td>\n",
       "      <td>804</td>\n",
       "      <td>-1</td>\n",
       "      <td>1607</td>\n",
       "      <td>10.098230</td>\n",
       "    </tr>\n",
       "    <tr>\n",
       "      <th>1</th>\n",
       "      <td>Greenbelt Metro West</td>\n",
       "      <td>30</td>\n",
       "      <td>-76.913859</td>\n",
       "      <td>39.010546</td>\n",
       "      <td>393</td>\n",
       "      <td>409</td>\n",
       "      <td>-16</td>\n",
       "      <td>802</td>\n",
       "      <td>-10.354259</td>\n",
       "    </tr>\n",
       "    <tr>\n",
       "      <th>2</th>\n",
       "      <td>Monument Village</td>\n",
       "      <td>40</td>\n",
       "      <td>-76.930522</td>\n",
       "      <td>39.004601</td>\n",
       "      <td>828</td>\n",
       "      <td>663</td>\n",
       "      <td>165</td>\n",
       "      <td>1491</td>\n",
       "      <td>174.151899</td>\n",
       "    </tr>\n",
       "    <tr>\n",
       "      <th>3</th>\n",
       "      <td>Courtyards</td>\n",
       "      <td>50</td>\n",
       "      <td>-76.942093</td>\n",
       "      <td>39.002302</td>\n",
       "      <td>726</td>\n",
       "      <td>743</td>\n",
       "      <td>-17</td>\n",
       "      <td>1469</td>\n",
       "      <td>-6.743800</td>\n",
       "    </tr>\n",
       "    <tr>\n",
       "      <th>4</th>\n",
       "      <td>Berwyn Trolley Trail</td>\n",
       "      <td>31</td>\n",
       "      <td>-76.926618</td>\n",
       "      <td>38.994689</td>\n",
       "      <td>1906</td>\n",
       "      <td>1887</td>\n",
       "      <td>19</td>\n",
       "      <td>3793</td>\n",
       "      <td>45.047712</td>\n",
       "    </tr>\n",
       "  </tbody>\n",
       "</table>\n",
       "</div>"
      ],
      "text/plain": [
       "                        Name  Altitude  Longitude   Latitude  StartFreq  \\\n",
       "0  Hollywood Shopping Center        42 -76.921340  39.013710        803   \n",
       "1       Greenbelt Metro West        30 -76.913859  39.010546        393   \n",
       "2           Monument Village        40 -76.930522  39.004601        828   \n",
       "3                 Courtyards        50 -76.942093  39.002302        726   \n",
       "4       Berwyn Trolley Trail        31 -76.926618  38.994689       1906   \n",
       "\n",
       "   EndFreq  Diff  Total   Diff_Norm  \n",
       "0      804    -1   1607   10.098230  \n",
       "1      409   -16    802  -10.354259  \n",
       "2      663   165   1491  174.151899  \n",
       "3      743   -17   1469   -6.743800  \n",
       "4     1887    19   3793   45.047712  "
      ]
     },
     "execution_count": 105,
     "metadata": {},
     "output_type": "execute_result"
    }
   ],
   "source": [
    "dfmergeSE.Diff.sum()\n",
    "dfmergeSE.head(5)"
   ]
  },
  {
   "cell_type": "code",
   "execution_count": 106,
   "metadata": {
    "scrolled": true
   },
   "outputs": [
    {
     "data": {
      "text/plain": [
       "1.4779288903810084e-12"
      ]
     },
     "execution_count": 106,
     "metadata": {},
     "output_type": "execute_result"
    }
   ],
   "source": [
    "dfmergeSE['Diff_Norm'] = dfmergeSE['StartFreq']-weight*dfmergeSE['EndFreq']\n",
    "dfmergeSE.Diff_Norm.sum()"
   ]
  },
  {
   "cell_type": "code",
   "execution_count": 65,
   "metadata": {},
   "outputs": [
    {
     "data": {
      "text/plain": [
       "<seaborn.axisgrid.FacetGrid at 0x7fa74cc909e8>"
      ]
     },
     "execution_count": 65,
     "metadata": {},
     "output_type": "execute_result"
    },
    {
     "data": {
      "image/png": "[encoded data removed]",
      "text/plain": [
       "<Figure size 360x360 with 1 Axes>"
      ]
     },
     "metadata": {
      "needs_background": "light"
     },
     "output_type": "display_data"
    }
   ],
   "source": [
    "sns.lmplot(x='Altitude', y='StartFreq', data=dfmergeSE)"
   ]
  },
  {
   "cell_type": "code",
   "execution_count": 68,
   "metadata": {},
   "outputs": [
    {
     "data": {
      "text/plain": [
       "<seaborn.axisgrid.FacetGrid at 0x7fa755aaf748>"
      ]
     },
     "execution_count": 68,
     "metadata": {},
     "output_type": "execute_result"
    },
    {
     "data": {
      "image/png": "[encoded data removed]",
      "text/plain": [
       "<Figure size 360x360 with 1 Axes>"
      ]
     },
     "metadata": {
      "needs_background": "light"
     },
     "output_type": "display_data"
    }
   ],
   "source": [
    "sns.lmplot(x='Altitude', y='EndFreq', data=dfmergeSE)"
   ]
  },
  {
   "cell_type": "code",
   "execution_count": 66,
   "metadata": {},
   "outputs": [
    {
     "data": {
      "text/plain": [
       "<seaborn.axisgrid.FacetGrid at 0x7fa755b3b860>"
      ]
     },
     "execution_count": 66,
     "metadata": {},
     "output_type": "execute_result"
    },
    {
     "data": {
      "image/png": "[encoded data removed]",
      "text/plain": [
       "<Figure size 360x360 with 1 Axes>"
      ]
     },
     "metadata": {
      "needs_background": "light"
     },
     "output_type": "display_data"
    }
   ],
   "source": [
    "sns.lmplot(x='Altitude', y='Diff_Norm', data=dfmergeSE)"
   ]
  },
  {
   "cell_type": "code",
   "execution_count": 79,
   "metadata": {},
   "outputs": [
    {
     "data": {
      "text/plain": [
       "'from scipy import stats\\n# Use scipy.stats to get the linear fit\\nslope, intercept, r_value, p_value, std_err = stats.linregress(dfmergeSE[\\'Altitude\\'],dfmergeSE[\\'StartTrips\\'])\\n\\n# Pass parameters of fit using line_kws for legend\\nax = sns.regplot(x=\"Altitude\", y=\"Net_Norm\", data=dfmergeSE, \\n line_kws={\\'label\\':\"y={0:.1f}x+{1:.1f} | r={2:f}\".format(slope,intercept,r_value)})\\nax.legend()\\nplt.show()'"
      ]
     },
     "execution_count": 79,
     "metadata": {},
     "output_type": "execute_result"
    }
   ],
   "source": [
    "'''from scipy import stats\n",
    "# Use scipy.stats to get the linear fit\n",
    "slope, intercept, r_value, p_value, std_err = stats.linregress(dfmergeSE['Altitude'],dfmergeSE['StartTrips'])\n",
    "\n",
    "# Pass parameters of fit using line_kws for legend\n",
    "ax = sns.regplot(x=\"Altitude\", y=\"Net_Norm\", data=dfmergeSE, \n",
    " line_kws={'label':\"y={0:.1f}x+{1:.1f} | r={2:f}\".format(slope,intercept,r_value)})\n",
    "ax.legend()\n",
    "plt.show()'''"
   ]
  },
  {
   "cell_type": "code",
   "execution_count": 67,
   "metadata": {},
   "outputs": [
    {
     "data": {
      "image/png": "[encoded data removed]",
      "text/plain": [
       "<Figure size 1440x1080 with 1 Axes>"
      ]
     },
     "metadata": {
      "needs_background": "light"
     },
     "output_type": "display_data"
    }
   ],
   "source": [
    "#ax = sns.barplot(y=\"Name\", x=\"Diff_Norm\", data=dfmergeSE[dfmergeSE['Diff_Norm'] < 0])\n",
    "#ax = sns.barplot(y=\"Name\", x=\"Diff_Norm\", data=dfmergeSE)\n",
    "ax = sns.barplot(y=\"Name\", x=\"Total\", data=dfmergeSE)\n"
   ]
  },
  {
   "cell_type": "markdown",
   "metadata": {},
   "source": [
    "# Make maps of stations where their bubble marker represents usages. "
   ]
  },
  {
   "cell_type": "code",
   "execution_count": 39,
   "metadata": {},
   "outputs": [],
   "source": [
    "dfmergeSE.head(5)\n",
    "dfmergeSE.to_csv(\"stationsInfo_TripCounts.csv\")"
   ]
  },
  {
   "cell_type": "code",
   "execution_count": 59,
   "metadata": {
    "scrolled": true
   },
   "outputs": [],
   "source": [
    "#Make a map over all time of Net_Norm (StartTrips-weight*EndTrips)\n",
    "import folium\n",
    "m = folium.Map(location=[dfmergeSE['Latitude'].mean(),dfmergeSE['Longitude'].mean()], zoom_start=14)\n",
    "\n",
    "# Red will mean more bikes ended than started, Blue means more started than ended\n",
    "for i in range(0,len(dfmergeSE)):\n",
    "    net_norm = dfmergeSE.iloc[i]['Diff_Norm']\n",
    "    if (net_norm>0): \n",
    "        c ='crimson'\n",
    "    else: \n",
    "        c = 'blue' \n",
    "\n",
    "    folium.Circle(\n",
    "      location=[dfmergeSE.iloc[i]['Latitude'], dfmergeSE.iloc[i]['Longitude']],\n",
    "      popup=dfmergeSE.iloc[i]['Name'],\n",
    "      radius=abs(net_norm)*(0.15),\n",
    "      color=c,\n",
    "      fill=True,\n",
    "      fill_color=c\n",
    "   ).add_to(m)\n",
    "m\n",
    "m.save('march2018_map.html')\n",
    "\n",
    "#Make a map over all time of usage\n",
    "m = folium.Map(location=[dfmergeSE['Latitude'].mean(),dfmergeSE['Longitude'].mean()], zoom_start=14)\n",
    "\n",
    "# Red will mean more bikes ended than started, Blue means more started than ended\n",
    "for i in range(0,len(dfmergeSE)):\n",
    "    net_norm = dfmergeSE.iloc[i]['StartFreq'] + dfmergeSE.iloc[i]['EndFreq']\n",
    "    if (net_norm>0): \n",
    "        c ='crimson'\n",
    "    else: \n",
    "        c = 'blue' \n",
    "\n",
    "    folium.Circle(\n",
    "      location=[dfmergeSE.iloc[i]['Latitude'], dfmergeSE.iloc[i]['Longitude']],\n",
    "      popup=dfmergeSE.iloc[i]['Name'],\n",
    "      radius=abs(net_norm)*(0.01),\n",
    "      color=c,\n",
    "      fill=True,\n",
    "      fill_color=c\n",
    "   ).add_to(m)\n",
    "m\n",
    "m.save('usageAfterMarch2018_map.html')"
   ]
  },
  {
   "cell_type": "code",
   "execution_count": 41,
   "metadata": {},
   "outputs": [
    {
     "data": {
      "image/png": "[encoded data removed]",
      "text/plain": [
       "<Figure size 432x432 with 3 Axes>"
      ]
     },
     "metadata": {
      "needs_background": "light"
     },
     "output_type": "display_data"
    }
   ],
   "source": [
    "g = sns.jointplot(\"Longitude\", \"Latitude\", data=dfmergeSE,joint_kws=dict(gridsize=35))"
   ]
  },
  {
   "cell_type": "code",
   "execution_count": 42,
   "metadata": {},
   "outputs": [
    {
     "data": {
      "image/png": "[encoded data removed]",
      "text/plain": [
       "<Figure size 445.75x360 with 1 Axes>"
      ]
     },
     "metadata": {
      "needs_background": "light"
     },
     "output_type": "display_data"
    }
   ],
   "source": [
    "sns.relplot(x=\"Longitude\", y=\"Latitude\", hue=\"Net_Norm\", data=dfmergeSE);"
   ]
  },
  {
   "cell_type": "markdown",
   "metadata": {},
   "source": [
    "# Transform data into a table of Completed Routes\n",
    "(This has Trip_ID,User_ID,Start_Station,End_Station,Start_Time,End_Time, etc)"
   ]
  },
  {
   "cell_type": "code",
   "execution_count": 43,
   "metadata": {},
   "outputs": [],
   "source": [
    "dfS = dfStart.set_index(\"Trip_ID\")\n",
    "dfE = dfEnd.set_index(\"Trip_ID\")"
   ]
  },
  {
   "cell_type": "code",
   "execution_count": 83,
   "metadata": {},
   "outputs": [
    {
     "data": {
      "text/html": [
       "<div>\n",
       "<style scoped>\n",
       "    .dataframe tbody tr th:only-of-type {\n",
       "        vertical-align: middle;\n",
       "    }\n",
       "\n",
       "    .dataframe tbody tr th {\n",
       "        vertical-align: top;\n",
       "    }\n",
       "\n",
       "    .dataframe thead th {\n",
       "        text-align: right;\n",
       "    }\n",
       "</style>\n",
       "<table border=\"1\" class=\"dataframe\">\n",
       "  <thead>\n",
       "    <tr style=\"text-align: right;\">\n",
       "      <th></th>\n",
       "      <th>Coords_Latitude</th>\n",
       "      <th>Coords_Longitude</th>\n",
       "      <th>Bike_Event</th>\n",
       "      <th>User_ID</th>\n",
       "      <th>Date_Time</th>\n",
       "      <th>Date</th>\n",
       "      <th>Time</th>\n",
       "      <th>StationName</th>\n",
       "      <th>Day</th>\n",
       "    </tr>\n",
       "    <tr>\n",
       "      <th>Trip_ID</th>\n",
       "      <th></th>\n",
       "      <th></th>\n",
       "      <th></th>\n",
       "      <th></th>\n",
       "      <th></th>\n",
       "      <th></th>\n",
       "      <th></th>\n",
       "      <th></th>\n",
       "      <th></th>\n",
       "    </tr>\n",
       "  </thead>\n",
       "  <tbody>\n",
       "    <tr>\n",
       "      <th>cvaLjh9vKtcdeQhrM</th>\n",
       "      <td>38.989979</td>\n",
       "      <td>-76.940757</td>\n",
       "      <td>EndTripInsideGeofence</td>\n",
       "      <td>292B39TcJhzNwQuDf</td>\n",
       "      <td>2018-04-23 13:06:02</td>\n",
       "      <td>2018-04-23</td>\n",
       "      <td>13:06:02</td>\n",
       "      <td>Regents Drive</td>\n",
       "      <td>0</td>\n",
       "    </tr>\n",
       "    <tr>\n",
       "      <th>qpZpMNkiJkJ4vmBpB</th>\n",
       "      <td>38.978129</td>\n",
       "      <td>-76.929079</td>\n",
       "      <td>EndTripInsideGeofence</td>\n",
       "      <td>292B39TcJhzNwQuDf</td>\n",
       "      <td>2018-04-25 20:51:46</td>\n",
       "      <td>2018-04-25</td>\n",
       "      <td>20:51:46</td>\n",
       "      <td>College Park Metro West</td>\n",
       "      <td>2</td>\n",
       "    </tr>\n",
       "    <tr>\n",
       "      <th>dLxcJ43rmJLZ7Mv2N</th>\n",
       "      <td>38.978129</td>\n",
       "      <td>-76.929079</td>\n",
       "      <td>EndTripInsideGeofence</td>\n",
       "      <td>292B39TcJhzNwQuDf</td>\n",
       "      <td>2018-04-27 20:42:58</td>\n",
       "      <td>2018-04-27</td>\n",
       "      <td>20:42:58</td>\n",
       "      <td>College Park Metro West</td>\n",
       "      <td>4</td>\n",
       "    </tr>\n",
       "  </tbody>\n",
       "</table>\n",
       "</div>"
      ],
      "text/plain": [
       "                   Coords_Latitude  Coords_Longitude             Bike_Event  \\\n",
       "Trip_ID                                                                       \n",
       "cvaLjh9vKtcdeQhrM        38.989979        -76.940757  EndTripInsideGeofence   \n",
       "qpZpMNkiJkJ4vmBpB        38.978129        -76.929079  EndTripInsideGeofence   \n",
       "dLxcJ43rmJLZ7Mv2N        38.978129        -76.929079  EndTripInsideGeofence   \n",
       "\n",
       "                             User_ID           Date_Time        Date  \\\n",
       "Trip_ID                                                                \n",
       "cvaLjh9vKtcdeQhrM  292B39TcJhzNwQuDf 2018-04-23 13:06:02  2018-04-23   \n",
       "qpZpMNkiJkJ4vmBpB  292B39TcJhzNwQuDf 2018-04-25 20:51:46  2018-04-25   \n",
       "dLxcJ43rmJLZ7Mv2N  292B39TcJhzNwQuDf 2018-04-27 20:42:58  2018-04-27   \n",
       "\n",
       "                       Time              StationName  Day  \n",
       "Trip_ID                                                    \n",
       "cvaLjh9vKtcdeQhrM  13:06:02            Regents Drive    0  \n",
       "qpZpMNkiJkJ4vmBpB  20:51:46  College Park Metro West    2  \n",
       "dLxcJ43rmJLZ7Mv2N  20:42:58  College Park Metro West    4  "
      ]
     },
     "execution_count": 83,
     "metadata": {},
     "output_type": "execute_result"
    }
   ],
   "source": [
    "dfS.head(3)\n",
    "dfE.head(3)"
   ]
  },
  {
   "cell_type": "code",
   "execution_count": 49,
   "metadata": {},
   "outputs": [],
   "source": [
    "#Join on trip ID, keep coords\n",
    "#Use dfStart, dfEnd. For each trip_ID, get start & end info Lat/Long and station.\n",
    "dfTrips = dfS.join(dfE, lsuffix='_S', rsuffix='_E')"
   ]
  },
  {
   "cell_type": "code",
   "execution_count": 47,
   "metadata": {},
   "outputs": [
    {
     "data": {
      "text/plain": [
       "Index(['Coords_Latitude_S', 'Coords_Longitude_S', 'Bike_Event_S', 'User_ID_S',\n",
       "       'Date_Time_S', 'Date_S', 'Time_S', 'StationName_S', 'Day_S',\n",
       "       'Coords_Latitude_E', 'Coords_Longitude_E', 'Bike_Event_E', 'User_ID_E',\n",
       "       'Date_Time_E', 'Date_E', 'Time_E', 'StationName_E', 'Day_E'],\n",
       "      dtype='object')"
      ]
     },
     "execution_count": 47,
     "metadata": {},
     "output_type": "execute_result"
    }
   ],
   "source": [
    "'''['Coords_Latitude_S', 'Coords_Longitude_S', 'Bike_Event_S', 'User_ID_S',\n",
    "       'Date_Time_S', 'Date_S', 'Time_S', 'StationName_S', 'Day_S',\n",
    "       'Coords_Latitude_E', 'Coords_Longitude_E', 'Bike_Event_E', 'User_ID_E',\n",
    "       'Date_Time_E', 'Date_E', 'Time_E', 'StationName_E', 'Day_E']'''\n",
    "dfTrips.columns"
   ]
  },
  {
   "cell_type": "code",
   "execution_count": 48,
   "metadata": {},
   "outputs": [
    {
     "name": "stdout",
     "output_type": "stream",
     "text": [
      "85.639743632764% of trips were completed. Rest were missing start or end event.\n"
     ]
    },
    {
     "name": "stderr",
     "output_type": "stream",
     "text": [
      "/home/luc/anaconda3/lib/python3.7/site-packages/ipykernel_launcher.py:11: SettingWithCopyWarning: \n",
      "A value is trying to be set on a copy of a slice from a DataFrame.\n",
      "Try using .loc[row_indexer,col_indexer] = value instead\n",
      "\n",
      "See the caveats in the documentation: http://pandas.pydata.org/pandas-docs/stable/indexing.html#indexing-view-versus-copy\n",
      "  # This is added back by InteractiveShellApp.init_path()\n"
     ]
    },
    {
     "data": {
      "text/html": [
       "<div>\n",
       "<style scoped>\n",
       "    .dataframe tbody tr th:only-of-type {\n",
       "        vertical-align: middle;\n",
       "    }\n",
       "\n",
       "    .dataframe tbody tr th {\n",
       "        vertical-align: top;\n",
       "    }\n",
       "\n",
       "    .dataframe thead th {\n",
       "        text-align: right;\n",
       "    }\n",
       "</style>\n",
       "<table border=\"1\" class=\"dataframe\">\n",
       "  <thead>\n",
       "    <tr style=\"text-align: right;\">\n",
       "      <th></th>\n",
       "      <th>Coords_Latitude_S</th>\n",
       "      <th>Coords_Longitude_S</th>\n",
       "      <th>Bike_Event_S</th>\n",
       "      <th>User_ID_S</th>\n",
       "      <th>Date_Time_S</th>\n",
       "      <th>Date_S</th>\n",
       "      <th>Time_S</th>\n",
       "      <th>StationName_S</th>\n",
       "      <th>Day_S</th>\n",
       "      <th>Coords_Latitude_E</th>\n",
       "      <th>Coords_Longitude_E</th>\n",
       "      <th>Bike_Event_E</th>\n",
       "      <th>User_ID_E</th>\n",
       "      <th>Date_Time_E</th>\n",
       "      <th>Date_E</th>\n",
       "      <th>Time_E</th>\n",
       "      <th>StationName_E</th>\n",
       "      <th>Day_E</th>\n",
       "      <th>Duration</th>\n",
       "    </tr>\n",
       "    <tr>\n",
       "      <th>Trip_ID</th>\n",
       "      <th></th>\n",
       "      <th></th>\n",
       "      <th></th>\n",
       "      <th></th>\n",
       "      <th></th>\n",
       "      <th></th>\n",
       "      <th></th>\n",
       "      <th></th>\n",
       "      <th></th>\n",
       "      <th></th>\n",
       "      <th></th>\n",
       "      <th></th>\n",
       "      <th></th>\n",
       "      <th></th>\n",
       "      <th></th>\n",
       "      <th></th>\n",
       "      <th></th>\n",
       "      <th></th>\n",
       "      <th></th>\n",
       "    </tr>\n",
       "  </thead>\n",
       "  <tbody>\n",
       "    <tr>\n",
       "      <th>224m5sDwixLcZAtHY</th>\n",
       "      <td>38.989979</td>\n",
       "      <td>-76.940757</td>\n",
       "      <td>StartTrip</td>\n",
       "      <td>rnSbW8bM7sEPi4Zo7mxpcxpW</td>\n",
       "      <td>2018-03-09 12:34:49</td>\n",
       "      <td>2018-03-09</td>\n",
       "      <td>12:34:49</td>\n",
       "      <td>Regents Drive</td>\n",
       "      <td>4</td>\n",
       "      <td>38.969811</td>\n",
       "      <td>-76.923467</td>\n",
       "      <td>EndTripInsideGeofence</td>\n",
       "      <td>rnSbW8bM7sEPi4Zo7mxpcxpW</td>\n",
       "      <td>2018-03-09 12:48:15</td>\n",
       "      <td>2018-03-09</td>\n",
       "      <td>12:48:15</td>\n",
       "      <td>Art Walk Station</td>\n",
       "      <td>4.0</td>\n",
       "      <td>13.43</td>\n",
       "    </tr>\n",
       "    <tr>\n",
       "      <th>229w9YBqSsH8GLiDqB3vREit</th>\n",
       "      <td>38.984549</td>\n",
       "      <td>-76.948848</td>\n",
       "      <td>StartTrip</td>\n",
       "      <td>N2duvRsnp8qbGDE9j</td>\n",
       "      <td>2018-12-05 02:26:10</td>\n",
       "      <td>2018-12-05</td>\n",
       "      <td>02:26:10</td>\n",
       "      <td>Mowatt Lane</td>\n",
       "      <td>2</td>\n",
       "      <td>38.981365</td>\n",
       "      <td>-76.937776</td>\n",
       "      <td>EndTripInsideGeofence</td>\n",
       "      <td>N2duvRsnp8qbGDE9j</td>\n",
       "      <td>2018-12-05 02:33:47</td>\n",
       "      <td>2018-12-05</td>\n",
       "      <td>02:33:47</td>\n",
       "      <td>City Hall</td>\n",
       "      <td>2.0</td>\n",
       "      <td>7.62</td>\n",
       "    </tr>\n",
       "    <tr>\n",
       "      <th>22A97tQpvoZWzsjs4</th>\n",
       "      <td>38.977703</td>\n",
       "      <td>-76.938708</td>\n",
       "      <td>StartTrip</td>\n",
       "      <td>iEmvgTPzoWvqEXf2w</td>\n",
       "      <td>2018-03-09 13:06:39</td>\n",
       "      <td>2018-03-09</td>\n",
       "      <td>13:06:39</td>\n",
       "      <td>Guilford Drive</td>\n",
       "      <td>4</td>\n",
       "      <td>38.978129</td>\n",
       "      <td>-76.929079</td>\n",
       "      <td>EndTripInsideGeofence</td>\n",
       "      <td>iEmvgTPzoWvqEXf2w</td>\n",
       "      <td>2018-03-09 13:11:15</td>\n",
       "      <td>2018-03-09</td>\n",
       "      <td>13:11:15</td>\n",
       "      <td>College Park Metro West</td>\n",
       "      <td>4.0</td>\n",
       "      <td>4.60</td>\n",
       "    </tr>\n",
       "    <tr>\n",
       "      <th>22Ld6zu6nzqRdSTNs</th>\n",
       "      <td>38.994689</td>\n",
       "      <td>-76.926618</td>\n",
       "      <td>StartTrip</td>\n",
       "      <td>ZQbLrsCivffAR5SKo</td>\n",
       "      <td>2018-06-09 16:18:35</td>\n",
       "      <td>2018-06-09</td>\n",
       "      <td>16:18:35</td>\n",
       "      <td>Berwyn Trolley Trail</td>\n",
       "      <td>5</td>\n",
       "      <td>38.993316</td>\n",
       "      <td>-76.946189</td>\n",
       "      <td>EndTripInsideGeofence</td>\n",
       "      <td>ZQbLrsCivffAR5SKo</td>\n",
       "      <td>2018-06-09 16:28:27</td>\n",
       "      <td>2018-06-09</td>\n",
       "      <td>16:28:27</td>\n",
       "      <td>Eppley</td>\n",
       "      <td>5.0</td>\n",
       "      <td>9.87</td>\n",
       "    </tr>\n",
       "    <tr>\n",
       "      <th>22Yr5G8KH89rx9B5FF8TfAen</th>\n",
       "      <td>39.002302</td>\n",
       "      <td>-76.942093</td>\n",
       "      <td>StartTrip</td>\n",
       "      <td>5jfC3BBByT92N9srTYtt8ir8</td>\n",
       "      <td>2018-10-02 23:12:02</td>\n",
       "      <td>2018-10-02</td>\n",
       "      <td>23:12:02</td>\n",
       "      <td>Courtyards</td>\n",
       "      <td>1</td>\n",
       "      <td>38.982425</td>\n",
       "      <td>-76.943613</td>\n",
       "      <td>EndTripInsideGeofence</td>\n",
       "      <td>5jfC3BBByT92N9srTYtt8ir8</td>\n",
       "      <td>2018-10-02 23:32:30</td>\n",
       "      <td>2018-10-02</td>\n",
       "      <td>23:32:30</td>\n",
       "      <td>South Campus Dining Hall</td>\n",
       "      <td>1.0</td>\n",
       "      <td>20.47</td>\n",
       "    </tr>\n",
       "  </tbody>\n",
       "</table>\n",
       "</div>"
      ],
      "text/plain": [
       "                          Coords_Latitude_S  Coords_Longitude_S Bike_Event_S  \\\n",
       "Trip_ID                                                                        \n",
       "224m5sDwixLcZAtHY                 38.989979          -76.940757    StartTrip   \n",
       "229w9YBqSsH8GLiDqB3vREit          38.984549          -76.948848    StartTrip   \n",
       "22A97tQpvoZWzsjs4                 38.977703          -76.938708    StartTrip   \n",
       "22Ld6zu6nzqRdSTNs                 38.994689          -76.926618    StartTrip   \n",
       "22Yr5G8KH89rx9B5FF8TfAen          39.002302          -76.942093    StartTrip   \n",
       "\n",
       "                                         User_ID_S         Date_Time_S  \\\n",
       "Trip_ID                                                                  \n",
       "224m5sDwixLcZAtHY         rnSbW8bM7sEPi4Zo7mxpcxpW 2018-03-09 12:34:49   \n",
       "229w9YBqSsH8GLiDqB3vREit         N2duvRsnp8qbGDE9j 2018-12-05 02:26:10   \n",
       "22A97tQpvoZWzsjs4                iEmvgTPzoWvqEXf2w 2018-03-09 13:06:39   \n",
       "22Ld6zu6nzqRdSTNs                ZQbLrsCivffAR5SKo 2018-06-09 16:18:35   \n",
       "22Yr5G8KH89rx9B5FF8TfAen  5jfC3BBByT92N9srTYtt8ir8 2018-10-02 23:12:02   \n",
       "\n",
       "                              Date_S    Time_S         StationName_S  Day_S  \\\n",
       "Trip_ID                                                                       \n",
       "224m5sDwixLcZAtHY         2018-03-09  12:34:49         Regents Drive      4   \n",
       "229w9YBqSsH8GLiDqB3vREit  2018-12-05  02:26:10           Mowatt Lane      2   \n",
       "22A97tQpvoZWzsjs4         2018-03-09  13:06:39        Guilford Drive      4   \n",
       "22Ld6zu6nzqRdSTNs         2018-06-09  16:18:35  Berwyn Trolley Trail      5   \n",
       "22Yr5G8KH89rx9B5FF8TfAen  2018-10-02  23:12:02            Courtyards      1   \n",
       "\n",
       "                          Coords_Latitude_E  Coords_Longitude_E  \\\n",
       "Trip_ID                                                           \n",
       "224m5sDwixLcZAtHY                 38.969811          -76.923467   \n",
       "229w9YBqSsH8GLiDqB3vREit          38.981365          -76.937776   \n",
       "22A97tQpvoZWzsjs4                 38.978129          -76.929079   \n",
       "22Ld6zu6nzqRdSTNs                 38.993316          -76.946189   \n",
       "22Yr5G8KH89rx9B5FF8TfAen          38.982425          -76.943613   \n",
       "\n",
       "                                   Bike_Event_E                 User_ID_E  \\\n",
       "Trip_ID                                                                     \n",
       "224m5sDwixLcZAtHY         EndTripInsideGeofence  rnSbW8bM7sEPi4Zo7mxpcxpW   \n",
       "229w9YBqSsH8GLiDqB3vREit  EndTripInsideGeofence         N2duvRsnp8qbGDE9j   \n",
       "22A97tQpvoZWzsjs4         EndTripInsideGeofence         iEmvgTPzoWvqEXf2w   \n",
       "22Ld6zu6nzqRdSTNs         EndTripInsideGeofence         ZQbLrsCivffAR5SKo   \n",
       "22Yr5G8KH89rx9B5FF8TfAen  EndTripInsideGeofence  5jfC3BBByT92N9srTYtt8ir8   \n",
       "\n",
       "                                 Date_Time_E      Date_E    Time_E  \\\n",
       "Trip_ID                                                              \n",
       "224m5sDwixLcZAtHY        2018-03-09 12:48:15  2018-03-09  12:48:15   \n",
       "229w9YBqSsH8GLiDqB3vREit 2018-12-05 02:33:47  2018-12-05  02:33:47   \n",
       "22A97tQpvoZWzsjs4        2018-03-09 13:11:15  2018-03-09  13:11:15   \n",
       "22Ld6zu6nzqRdSTNs        2018-06-09 16:28:27  2018-06-09  16:28:27   \n",
       "22Yr5G8KH89rx9B5FF8TfAen 2018-10-02 23:32:30  2018-10-02  23:32:30   \n",
       "\n",
       "                                     StationName_E  Day_E  Duration  \n",
       "Trip_ID                                                              \n",
       "224m5sDwixLcZAtHY                 Art Walk Station    4.0     13.43  \n",
       "229w9YBqSsH8GLiDqB3vREit                 City Hall    2.0      7.62  \n",
       "22A97tQpvoZWzsjs4          College Park Metro West    4.0      4.60  \n",
       "22Ld6zu6nzqRdSTNs                           Eppley    5.0      9.87  \n",
       "22Yr5G8KH89rx9B5FF8TfAen  South Campus Dining Hall    1.0     20.47  "
      ]
     },
     "execution_count": 48,
     "metadata": {},
     "output_type": "execute_result"
    }
   ],
   "source": [
    "#Remove incomplete trips!\n",
    "def durInMinutes(row):\n",
    "    t_E= row['Date_Time_E'] \n",
    "    t_S = row['Date_Time_S']\n",
    "    dur = (t_E - t_S).seconds\n",
    "    dur = round(dur/60,2)\n",
    "    return pd.Series([dur])\n",
    "dfTrips.head(5)\n",
    "dfCompleteTrips = dfTrips.dropna(subset=['StationName_S', 'StationName_E'])\n",
    "#dfCompleteTrips['Duration'] = dfCompleteTrips['Date_Time_E'] - dfCompleteTrips['Date_Time_S']\n",
    "dfCompleteTrips['Duration'] = dfCompleteTrips.apply(durInMinutes, axis=1)\n",
    "# print(len(dfTrips.index)) print(len(dfCompleteTrips.index))\n",
    "# duration = (after - before) // timedelta(seconds=3600)\n",
    "print(str((len(dfCompleteTrips.index)/(len(dfTrips.index)))*100) + \"% of trips were completed. Rest were missing start or end event.\")\n",
    "dfCompleteTrips.head(5)\n"
   ]
  },
  {
   "cell_type": "markdown",
   "metadata": {},
   "source": [
    "## Distribution of Trip duration\n",
    "- 96.1% are under 60 minutes\n",
    "- 99.115% of trips are under 200 minutes"
   ]
  },
  {
   "cell_type": "code",
   "execution_count": 82,
   "metadata": {},
   "outputs": [
    {
     "name": "stdout",
     "output_type": "stream",
     "text": [
      "0.9657347726426738\n",
      "count    51043.000000\n",
      "mean        16.634915\n",
      "std         60.445580\n",
      "min          0.030000\n",
      "25%          4.700000\n",
      "50%          7.330000\n",
      "75%         11.720000\n",
      "max       1439.800000\n",
      "Name: Duration, dtype: float64\n"
     ]
    },
    {
     "data": {
      "image/png": "[encoded data removed]",
      "text/plain": [
       "<Figure size 1440x1080 with 1 Axes>"
      ]
     },
     "metadata": {
      "needs_background": "light"
     },
     "output_type": "display_data"
    }
   ],
   "source": [
    "sns.distplot(dfCompleteTrips[dfCompleteTrips[\"Duration\"] <= 60].Duration)\n",
    "#sns.distplot(dfCompleteTrips[dfCompleteTrips.Duration)\n",
    "\n",
    "print(len(dfCompleteTrips[dfCompleteTrips[\"Duration\"] <= 60].index)/len(dfCompleteTrips.index))\n",
    "print(dfCompleteTrips.Duration.describe())"
   ]
  },
  {
   "cell_type": "code",
   "execution_count": 164,
   "metadata": {},
   "outputs": [],
   "source": [
    "dfCompleteTrips.to_csv('CompletedMBikeTrips.csv',index='False')"
   ]
  },
  {
   "cell_type": "code",
   "execution_count": 81,
   "metadata": {},
   "outputs": [
    {
     "data": {
      "text/html": [
       "<div>\n",
       "<style scoped>\n",
       "    .dataframe tbody tr th:only-of-type {\n",
       "        vertical-align: middle;\n",
       "    }\n",
       "\n",
       "    .dataframe tbody tr th {\n",
       "        vertical-align: top;\n",
       "    }\n",
       "\n",
       "    .dataframe thead th {\n",
       "        text-align: right;\n",
       "    }\n",
       "</style>\n",
       "<table border=\"1\" class=\"dataframe\">\n",
       "  <thead>\n",
       "    <tr style=\"text-align: right;\">\n",
       "      <th></th>\n",
       "      <th>StationName_S</th>\n",
       "      <th>StationName_E</th>\n",
       "      <th>Frequency</th>\n",
       "    </tr>\n",
       "  </thead>\n",
       "  <tbody>\n",
       "    <tr>\n",
       "      <th>0</th>\n",
       "      <td>Art Walk Station</td>\n",
       "      <td>Art Walk Station</td>\n",
       "      <td>101</td>\n",
       "    </tr>\n",
       "    <tr>\n",
       "      <th>1</th>\n",
       "      <td>Art Walk Station</td>\n",
       "      <td>Berwyn Trolley Trail</td>\n",
       "      <td>18</td>\n",
       "    </tr>\n",
       "  </tbody>\n",
       "</table>\n",
       "</div>"
      ],
      "text/plain": [
       "      StationName_S         StationName_E  Frequency\n",
       "0  Art Walk Station      Art Walk Station        101\n",
       "1  Art Walk Station  Berwyn Trolley Trail         18"
      ]
     },
     "execution_count": 81,
     "metadata": {},
     "output_type": "execute_result"
    }
   ],
   "source": [
    "#Count number of times each route is taken!\n",
    "count_series = dfCompleteTrips.groupby(['StationName_S', 'StationName_E']).size()\n",
    "dfRoutes = count_series.to_frame(name = 'Frequency').reset_index()\n",
    "dfRoutes.to_csv(\"routeFrequency.csv\",index=False)\n",
    "dfRoutes.head(2)\n",
    "#dfRoutes.sort_values(by=['Frequency'], ascending=False)"
   ]
  },
  {
   "cell_type": "code",
   "execution_count": 90,
   "metadata": {},
   "outputs": [
    {
     "data": {
      "text/html": [
       "<div>\n",
       "<style scoped>\n",
       "    .dataframe tbody tr th:only-of-type {\n",
       "        vertical-align: middle;\n",
       "    }\n",
       "\n",
       "    .dataframe tbody tr th {\n",
       "        vertical-align: top;\n",
       "    }\n",
       "\n",
       "    .dataframe thead th {\n",
       "        text-align: right;\n",
       "    }\n",
       "</style>\n",
       "<table border=\"1\" class=\"dataframe\">\n",
       "  <thead>\n",
       "    <tr style=\"text-align: right;\">\n",
       "      <th></th>\n",
       "      <th>Coords_Latitude_S</th>\n",
       "      <th>Coords_Longitude_S</th>\n",
       "      <th>Bike_Event_S</th>\n",
       "      <th>User_ID_S</th>\n",
       "      <th>Date_Time_S</th>\n",
       "      <th>Date_S</th>\n",
       "      <th>Time_S</th>\n",
       "      <th>StationName_S</th>\n",
       "      <th>Day_S</th>\n",
       "      <th>Coords_Latitude_E</th>\n",
       "      <th>Coords_Longitude_E</th>\n",
       "      <th>Bike_Event_E</th>\n",
       "      <th>User_ID_E</th>\n",
       "      <th>Date_Time_E</th>\n",
       "      <th>Date_E</th>\n",
       "      <th>Time_E</th>\n",
       "      <th>StationName_E</th>\n",
       "      <th>Day_E</th>\n",
       "      <th>Duration</th>\n",
       "    </tr>\n",
       "    <tr>\n",
       "      <th>Trip_ID</th>\n",
       "      <th></th>\n",
       "      <th></th>\n",
       "      <th></th>\n",
       "      <th></th>\n",
       "      <th></th>\n",
       "      <th></th>\n",
       "      <th></th>\n",
       "      <th></th>\n",
       "      <th></th>\n",
       "      <th></th>\n",
       "      <th></th>\n",
       "      <th></th>\n",
       "      <th></th>\n",
       "      <th></th>\n",
       "      <th></th>\n",
       "      <th></th>\n",
       "      <th></th>\n",
       "      <th></th>\n",
       "      <th></th>\n",
       "    </tr>\n",
       "  </thead>\n",
       "  <tbody>\n",
       "    <tr>\n",
       "      <th>224m5sDwixLcZAtHY</th>\n",
       "      <td>38.989979</td>\n",
       "      <td>-76.940757</td>\n",
       "      <td>StartTrip</td>\n",
       "      <td>rnSbW8bM7sEPi4Zo7mxpcxpW</td>\n",
       "      <td>2018-03-09 12:34:49</td>\n",
       "      <td>2018-03-09</td>\n",
       "      <td>12:34:49</td>\n",
       "      <td>Regents Drive</td>\n",
       "      <td>4</td>\n",
       "      <td>38.969811</td>\n",
       "      <td>-76.923467</td>\n",
       "      <td>EndTripInsideGeofence</td>\n",
       "      <td>rnSbW8bM7sEPi4Zo7mxpcxpW</td>\n",
       "      <td>2018-03-09 12:48:15</td>\n",
       "      <td>2018-03-09</td>\n",
       "      <td>12:48:15</td>\n",
       "      <td>Art Walk Station</td>\n",
       "      <td>4.0</td>\n",
       "      <td>13.43</td>\n",
       "    </tr>\n",
       "    <tr>\n",
       "      <th>229w9YBqSsH8GLiDqB3vREit</th>\n",
       "      <td>38.984549</td>\n",
       "      <td>-76.948848</td>\n",
       "      <td>StartTrip</td>\n",
       "      <td>N2duvRsnp8qbGDE9j</td>\n",
       "      <td>2018-12-05 02:26:10</td>\n",
       "      <td>2018-12-05</td>\n",
       "      <td>02:26:10</td>\n",
       "      <td>Mowatt Lane</td>\n",
       "      <td>2</td>\n",
       "      <td>38.981365</td>\n",
       "      <td>-76.937776</td>\n",
       "      <td>EndTripInsideGeofence</td>\n",
       "      <td>N2duvRsnp8qbGDE9j</td>\n",
       "      <td>2018-12-05 02:33:47</td>\n",
       "      <td>2018-12-05</td>\n",
       "      <td>02:33:47</td>\n",
       "      <td>City Hall</td>\n",
       "      <td>2.0</td>\n",
       "      <td>7.62</td>\n",
       "    </tr>\n",
       "    <tr>\n",
       "      <th>22A97tQpvoZWzsjs4</th>\n",
       "      <td>38.977703</td>\n",
       "      <td>-76.938708</td>\n",
       "      <td>StartTrip</td>\n",
       "      <td>iEmvgTPzoWvqEXf2w</td>\n",
       "      <td>2018-03-09 13:06:39</td>\n",
       "      <td>2018-03-09</td>\n",
       "      <td>13:06:39</td>\n",
       "      <td>Guilford Drive</td>\n",
       "      <td>4</td>\n",
       "      <td>38.978129</td>\n",
       "      <td>-76.929079</td>\n",
       "      <td>EndTripInsideGeofence</td>\n",
       "      <td>iEmvgTPzoWvqEXf2w</td>\n",
       "      <td>2018-03-09 13:11:15</td>\n",
       "      <td>2018-03-09</td>\n",
       "      <td>13:11:15</td>\n",
       "      <td>College Park Metro West</td>\n",
       "      <td>4.0</td>\n",
       "      <td>4.60</td>\n",
       "    </tr>\n",
       "  </tbody>\n",
       "</table>\n",
       "</div>"
      ],
      "text/plain": [
       "                          Coords_Latitude_S  Coords_Longitude_S Bike_Event_S  \\\n",
       "Trip_ID                                                                        \n",
       "224m5sDwixLcZAtHY                 38.989979          -76.940757    StartTrip   \n",
       "229w9YBqSsH8GLiDqB3vREit          38.984549          -76.948848    StartTrip   \n",
       "22A97tQpvoZWzsjs4                 38.977703          -76.938708    StartTrip   \n",
       "\n",
       "                                         User_ID_S         Date_Time_S  \\\n",
       "Trip_ID                                                                  \n",
       "224m5sDwixLcZAtHY         rnSbW8bM7sEPi4Zo7mxpcxpW 2018-03-09 12:34:49   \n",
       "229w9YBqSsH8GLiDqB3vREit         N2duvRsnp8qbGDE9j 2018-12-05 02:26:10   \n",
       "22A97tQpvoZWzsjs4                iEmvgTPzoWvqEXf2w 2018-03-09 13:06:39   \n",
       "\n",
       "                              Date_S    Time_S   StationName_S  Day_S  \\\n",
       "Trip_ID                                                                 \n",
       "224m5sDwixLcZAtHY         2018-03-09  12:34:49   Regents Drive      4   \n",
       "229w9YBqSsH8GLiDqB3vREit  2018-12-05  02:26:10     Mowatt Lane      2   \n",
       "22A97tQpvoZWzsjs4         2018-03-09  13:06:39  Guilford Drive      4   \n",
       "\n",
       "                          Coords_Latitude_E  Coords_Longitude_E  \\\n",
       "Trip_ID                                                           \n",
       "224m5sDwixLcZAtHY                 38.969811          -76.923467   \n",
       "229w9YBqSsH8GLiDqB3vREit          38.981365          -76.937776   \n",
       "22A97tQpvoZWzsjs4                 38.978129          -76.929079   \n",
       "\n",
       "                                   Bike_Event_E                 User_ID_E  \\\n",
       "Trip_ID                                                                     \n",
       "224m5sDwixLcZAtHY         EndTripInsideGeofence  rnSbW8bM7sEPi4Zo7mxpcxpW   \n",
       "229w9YBqSsH8GLiDqB3vREit  EndTripInsideGeofence         N2duvRsnp8qbGDE9j   \n",
       "22A97tQpvoZWzsjs4         EndTripInsideGeofence         iEmvgTPzoWvqEXf2w   \n",
       "\n",
       "                                 Date_Time_E      Date_E    Time_E  \\\n",
       "Trip_ID                                                              \n",
       "224m5sDwixLcZAtHY        2018-03-09 12:48:15  2018-03-09  12:48:15   \n",
       "229w9YBqSsH8GLiDqB3vREit 2018-12-05 02:33:47  2018-12-05  02:33:47   \n",
       "22A97tQpvoZWzsjs4        2018-03-09 13:11:15  2018-03-09  13:11:15   \n",
       "\n",
       "                                    StationName_E  Day_E  Duration  \n",
       "Trip_ID                                                             \n",
       "224m5sDwixLcZAtHY                Art Walk Station    4.0     13.43  \n",
       "229w9YBqSsH8GLiDqB3vREit                City Hall    2.0      7.62  \n",
       "22A97tQpvoZWzsjs4         College Park Metro West    4.0      4.60  "
      ]
     },
     "execution_count": 90,
     "metadata": {},
     "output_type": "execute_result"
    }
   ],
   "source": [
    "dfCompleteTrips.head(3)"
   ]
  },
  {
   "cell_type": "markdown",
   "metadata": {},
   "source": [
    "## Weekday overall hourly bike usage (Start trips)\n",
    "This data shows that bikes are rarely used for morning commutes. People are much more likely to use mBikes to commute after 12pm. This usage spikes at 9pm, and then we see that at 12am people are almost just as likely to begin a trip as at 12pm!"
   ]
  },
  {
   "cell_type": "code",
   "execution_count": 89,
   "metadata": {},
   "outputs": [
    {
     "data": {
      "text/plain": [
       "<matplotlib.axes._subplots.AxesSubplot at 0x7fa75308f7f0>"
      ]
     },
     "execution_count": 89,
     "metadata": {},
     "output_type": "execute_result"
    },
    {
     "data": {
      "image/png": "[encoded data removed]",
      "text/plain": [
       "<Figure size 1440x1080 with 1 Axes>"
      ]
     },
     "metadata": {
      "needs_background": "light"
     },
     "output_type": "display_data"
    }
   ],
   "source": [
    "#Weekday plots\n",
    "#dfNew =dfCompleteTrips[(dfCompleteTrips['StationName_S'] == 'City Hall') & (dfCompleteTrips['Day_S'] > 4)]\n",
    "dfNew =dfCompleteTrips[(dfCompleteTrips['Day_S'] >= 0) | (dfCompleteTrips['Day_S'] <= 4)]\n",
    "#dfNew =dfCompleteTrips[(dfCompleteTrips['Day_S'] > 5)]\n",
    "\n",
    "dfNew.groupby([dfNew[\"Date_Time_S\"].dt.hour]).count().plot(kind=\"bar\",legend=False)\n",
    "#dfNew.groupby([dfNew[\"Date_Time_S\"].dt.year, dfNew[\"Date_Time_S\"].dt.month]).count().plot(kind=\"bar\")"
   ]
  },
  {
   "cell_type": "code",
   "execution_count": null,
   "metadata": {},
   "outputs": [],
   "source": []
  },
  {
   "cell_type": "code",
   "execution_count": 167,
   "metadata": {},
   "outputs": [
    {
     "data": {
      "text/plain": [
       "<matplotlib.axes._subplots.AxesSubplot at 0x7f2d3119d470>"
      ]
     },
     "execution_count": 167,
     "metadata": {},
     "output_type": "execute_result"
    },
    {
     "data": {
      "image/png": "[encoded data removed]",
      "text/plain": [
       "<Figure size 1440x1080 with 1 Axes>"
      ]
     },
     "metadata": {
      "needs_background": "light"
     },
     "output_type": "display_data"
    }
   ],
   "source": []
  },
  {
   "cell_type": "markdown",
   "metadata": {},
   "source": [
    "### Table showing average weekday bike differential by station\n",
    "Station: Morning bike diff | Midday Bike diff | Evening Bike diff | Late Bike diff"
   ]
  },
  {
   "cell_type": "code",
   "execution_count": 149,
   "metadata": {},
   "outputs": [
    {
     "data": {
      "text/html": [
       "<div>\n",
       "<style scoped>\n",
       "    .dataframe tbody tr th:only-of-type {\n",
       "        vertical-align: middle;\n",
       "    }\n",
       "\n",
       "    .dataframe tbody tr th {\n",
       "        vertical-align: top;\n",
       "    }\n",
       "\n",
       "    .dataframe thead th {\n",
       "        text-align: right;\n",
       "    }\n",
       "</style>\n",
       "<table border=\"1\" class=\"dataframe\">\n",
       "  <thead>\n",
       "    <tr style=\"text-align: right;\">\n",
       "      <th></th>\n",
       "      <th>Coords_Latitude</th>\n",
       "      <th>Coords_Longitude</th>\n",
       "      <th>Trip_ID</th>\n",
       "      <th>Bike_Event</th>\n",
       "      <th>User_ID</th>\n",
       "      <th>Date_Time</th>\n",
       "      <th>Date</th>\n",
       "      <th>Time</th>\n",
       "      <th>StationName</th>\n",
       "      <th>Day</th>\n",
       "    </tr>\n",
       "  </thead>\n",
       "  <tbody>\n",
       "    <tr>\n",
       "      <th>3287</th>\n",
       "      <td>38.989979</td>\n",
       "      <td>-76.940757</td>\n",
       "      <td>cvaLjh9vKtcdeQhrM</td>\n",
       "      <td>EndTripInsideGeofence</td>\n",
       "      <td>292B39TcJhzNwQuDf</td>\n",
       "      <td>2018-04-23 13:06:02</td>\n",
       "      <td>2018-04-23</td>\n",
       "      <td>13:06:02</td>\n",
       "      <td>Regents Drive</td>\n",
       "      <td>0</td>\n",
       "    </tr>\n",
       "    <tr>\n",
       "      <th>3289</th>\n",
       "      <td>38.978129</td>\n",
       "      <td>-76.929079</td>\n",
       "      <td>ejjmjSNr54JWH9max</td>\n",
       "      <td>StartTrip</td>\n",
       "      <td>292B39TcJhzNwQuDf</td>\n",
       "      <td>2018-04-24 12:01:19</td>\n",
       "      <td>2018-04-24</td>\n",
       "      <td>12:01:19</td>\n",
       "      <td>College Park Metro West</td>\n",
       "      <td>1</td>\n",
       "    </tr>\n",
       "  </tbody>\n",
       "</table>\n",
       "</div>"
      ],
      "text/plain": [
       "      Coords_Latitude  Coords_Longitude            Trip_ID  \\\n",
       "3287        38.989979        -76.940757  cvaLjh9vKtcdeQhrM   \n",
       "3289        38.978129        -76.929079  ejjmjSNr54JWH9max   \n",
       "\n",
       "                 Bike_Event            User_ID           Date_Time  \\\n",
       "3287  EndTripInsideGeofence  292B39TcJhzNwQuDf 2018-04-23 13:06:02   \n",
       "3289              StartTrip  292B39TcJhzNwQuDf 2018-04-24 12:01:19   \n",
       "\n",
       "            Date      Time              StationName  Day  \n",
       "3287  2018-04-23  13:06:02            Regents Drive    0  \n",
       "3289  2018-04-24  12:01:19  College Park Metro West    1  "
      ]
     },
     "execution_count": 149,
     "metadata": {},
     "output_type": "execute_result"
    }
   ],
   "source": [
    "df.head(2)"
   ]
  },
  {
   "cell_type": "code",
   "execution_count": 193,
   "metadata": {},
   "outputs": [
    {
     "name": "stdout",
     "output_type": "stream",
     "text": [
      "2019-01-14 23:45:51\n",
      "2018-03-01 00:00:06\n"
     ]
    },
    {
     "data": {
      "text/html": [
       "<div>\n",
       "<style scoped>\n",
       "    .dataframe tbody tr th:only-of-type {\n",
       "        vertical-align: middle;\n",
       "    }\n",
       "\n",
       "    .dataframe tbody tr th {\n",
       "        vertical-align: top;\n",
       "    }\n",
       "\n",
       "    .dataframe thead th {\n",
       "        text-align: right;\n",
       "    }\n",
       "</style>\n",
       "<table border=\"1\" class=\"dataframe\">\n",
       "  <thead>\n",
       "    <tr style=\"text-align: right;\">\n",
       "      <th></th>\n",
       "      <th>Late Usage</th>\n",
       "    </tr>\n",
       "  </thead>\n",
       "  <tbody>\n",
       "    <tr>\n",
       "      <th>Art Walk Station</th>\n",
       "      <td>-6</td>\n",
       "    </tr>\n",
       "    <tr>\n",
       "      <th>Berwyn Trolley Trail</th>\n",
       "      <td>-408</td>\n",
       "    </tr>\n",
       "  </tbody>\n",
       "</table>\n",
       "</div>"
      ],
      "text/plain": [
       "                      Late Usage\n",
       "Art Walk Station              -6\n",
       "Berwyn Trolley Trail        -408"
      ]
     },
     "execution_count": 193,
     "metadata": {},
     "output_type": "execute_result"
    }
   ],
   "source": [
    "# Split into Start/Ends\n",
    "# keep only if after 03/2018 ******\n",
    "\n",
    "dfWeekdays = df[(df[\"Day\"] <=4) & (df[\"Day\"]>=0)]\n",
    "print(dfWeekdays['Date_Time'].max())\n",
    "print(dfWeekdays['Date_Time'].min())\n",
    "\n",
    "#Split into 4 dataframes, corresponding to morning, mid-day, evening and Late:\n",
    "dfWeekdaysM = dfWeekdays[(dfWeekdays['Date_Time'].dt.hour >= 4) & (dfWeekdays['Date_Time'].dt.hour < 10)]\n",
    "dfWeekdaysMid = dfWeekdays[(dfWeekdays['Date_Time'].dt.hour >= 10) & (dfWeekdays['Date_Time'].dt.hour < 16)]\n",
    "dfWeekdaysEve = dfWeekdays[(dfWeekdays['Date_Time'].dt.hour >= 16) & (dfWeekdays['Date_Time'].dt.hour < 22)]\n",
    "dfWeekdaysLate = dfWeekdays[(dfWeekdays['Date_Time'].dt.hour >= 22) | (dfWeekdays['Date_Time'].dt.hour < 4) ]\n",
    "\n",
    "\n",
    "######################################################[###\n",
    "\n",
    "'''\n",
    "#dfStartWd1 = dfStartWd.apply(getSection1, axis=1)\n",
    "dfStartWdM = dfStartWd[(dfStartWd['Date_Time'].dt.hour >= 4) & (dfStartWd['Date_Time'].dt.hour < 10)]\n",
    "dfStartWdMid = dfStartWd[(dfStartWd['Date_Time'].dt.hour >= 10) & (dfStartWd['Date_Time'].dt.hour < 16)]\n",
    "dfStartWdEve = dfStartWd[(dfStartWd['Date_Time'].dt.hour >= 16) & (dfStartWd['Date_Time'].dt.hour < 22)]\n",
    "dfStartWdLate = dfStartWd[(dfStartWd['Date_Time'].dt.hour >= 22) | (dfStartWd['Date_Time'].dt.hour < 4) ]\n",
    "'''\n",
    "\n",
    "#Section into time slots of 4-10am,10am-4pm, 4-10pm, 10pm-4am\n",
    "#dfStartWd1 = dfStartWd[(dfStartWd['Date_Time'].hour <= 10) & (dfStartWd['Date_Time'].hour >= 4)]\n",
    "#print(len(dfStartWd1.index))\n",
    "def getUsage(dfByTime, periodString):\n",
    "    a = dfByTime[dfByTime[\"Bike_Event\"] == 'StartTrip'].StationName.value_counts()\n",
    "    b = dfByTime[dfByTime[\"Bike_Event\"] != 'StartTrip'].StationName.value_counts()*weight\n",
    "    dfComb = pd.DataFrame(a-b)\n",
    "    periodString = periodString + ' Usage'\n",
    "    dfComb.columns = [periodString] # Negative means more end trips\n",
    "    dfComb[periodString] = dfComb[periodString].fillna(0).astype('int64')\n",
    "    return dfComb\n",
    "\n",
    "dfCombM = getUsage(dfWeekdaysM, 'Morning')\n",
    "dfCombMid = getUsage(dfWeekdaysMid, 'Mid-day')\n",
    "dfCombEve = getUsage(dfWeekdaysEve, 'Evening')\n",
    "dfCombLate = getUsage(dfWeekdaysLate, 'Late')\n",
    "\n",
    "'''\n",
    "###\n",
    "a = dfWeekdaysM[dfWeekdaysM[\"Bike_Event\"] == 'StartTrip'].StationName.value_counts()\n",
    "b = dfWeekdaysM[dfWeekdaysM[\"Bike_Event\"] != 'StartTrip'].StationName.value_counts()\n",
    "dfCombM = pd.DataFrame(a-b)\n",
    "dfCombM.columns = ['Usage Count'] # Negative means more end trips\n",
    "\n",
    "\n",
    "\n",
    "c = dfWeekdaysMid[dfWeekdaysMid[\"Bike_Event\"] == 'StartTrip'].StationName.value_counts()\n",
    "d = dfWeekdaysMid[dfWeekdaysMid[\"Bike_Event\"] != 'StartTrip'].StationName.value_counts()\n",
    "dfCombMid = pd.DataFrame(c-d)\n",
    "dfCombMid.columns = ['Usage Count'] # Negative means more end trips\n",
    "dfCombMid.head(24)\n",
    "'''\n",
    "\n",
    "dfCombM.head(2)\n",
    "dfCombMid.head(2)\n",
    "dfCombEve.head(2)\n",
    "dfCombLate.head(2)\n",
    "\n",
    "#dfWeekdaysM_Comb = pd.DataFrame([]\n",
    "#dfWeekdaysMid[dfWeekdaysMid[\"Bike_Event\"] != 'StartTrip'].StationName.value_counts()\n",
    "#dfWeekdaysMid[dfWeekdaysMid[\"Bike_Event\"] == 'StartTrip'].StationName.value_counts()\n",
    "\n",
    "#dfWeekdaysEve[dfWeekdaysEve[\"Bike_Event\"] != 'StartTrip'].StationName.value_counts()\n",
    "#dfWeekdaysEve[dfWeekdaysEve[\"Bike_Event\"] == 'StartTrip'].StationName.value_counts()\n",
    "\n",
    "#dfWeekdaysLate[dfWeekdaysLate[\"Bike_Event\"] != 'StartTrip'].StationName.value_counts()\n",
    "#dfWeekdaysLate[dfWeekdaysLate[\"Bike_Event\"] == 'StartTrip'].StationName.value_counts()"
   ]
  },
  {
   "cell_type": "code",
   "execution_count": 194,
   "metadata": {},
   "outputs": [
    {
     "name": "stderr",
     "output_type": "stream",
     "text": [
      "/home/luc/anaconda3/lib/python3.7/site-packages/ipykernel_launcher.py:2: FutureWarning: Sorting because non-concatenation axis is not aligned. A future version\n",
      "of pandas will change to not sort by default.\n",
      "\n",
      "To accept the future behavior, pass 'sort=False'.\n",
      "\n",
      "To retain the current behavior and silence the warning, pass 'sort=True'.\n",
      "\n",
      "  \n"
     ]
    },
    {
     "data": {
      "text/html": [
       "<div>\n",
       "<style scoped>\n",
       "    .dataframe tbody tr th:only-of-type {\n",
       "        vertical-align: middle;\n",
       "    }\n",
       "\n",
       "    .dataframe tbody tr th {\n",
       "        vertical-align: top;\n",
       "    }\n",
       "\n",
       "    .dataframe thead th {\n",
       "        text-align: right;\n",
       "    }\n",
       "</style>\n",
       "<table border=\"1\" class=\"dataframe\">\n",
       "  <thead>\n",
       "    <tr style=\"text-align: right;\">\n",
       "      <th></th>\n",
       "      <th>Morning Usage</th>\n",
       "      <th>Mid-day Usage</th>\n",
       "      <th>Evening Usage</th>\n",
       "      <th>Late Usage</th>\n",
       "    </tr>\n",
       "  </thead>\n",
       "  <tbody>\n",
       "    <tr>\n",
       "      <th>Art Walk Station</th>\n",
       "      <td>NaN</td>\n",
       "      <td>-209</td>\n",
       "      <td>227</td>\n",
       "      <td>-6</td>\n",
       "    </tr>\n",
       "    <tr>\n",
       "      <th>Berwyn Trolley Trail</th>\n",
       "      <td>-6.0</td>\n",
       "      <td>686</td>\n",
       "      <td>-234</td>\n",
       "      <td>-408</td>\n",
       "    </tr>\n",
       "    <tr>\n",
       "      <th>Cambria Suites</th>\n",
       "      <td>-14.0</td>\n",
       "      <td>144</td>\n",
       "      <td>0</td>\n",
       "      <td>-65</td>\n",
       "    </tr>\n",
       "    <tr>\n",
       "      <th>City Hall</th>\n",
       "      <td>34.0</td>\n",
       "      <td>242</td>\n",
       "      <td>-261</td>\n",
       "      <td>-187</td>\n",
       "    </tr>\n",
       "    <tr>\n",
       "      <th>College Park Metro West</th>\n",
       "      <td>-20.0</td>\n",
       "      <td>-637</td>\n",
       "      <td>363</td>\n",
       "      <td>261</td>\n",
       "    </tr>\n",
       "    <tr>\n",
       "      <th>Courtyards</th>\n",
       "      <td>-6.0</td>\n",
       "      <td>124</td>\n",
       "      <td>-101</td>\n",
       "      <td>-54</td>\n",
       "    </tr>\n",
       "    <tr>\n",
       "      <th>Eppley</th>\n",
       "      <td>-68.0</td>\n",
       "      <td>146</td>\n",
       "      <td>-156</td>\n",
       "      <td>205</td>\n",
       "    </tr>\n",
       "    <tr>\n",
       "      <th>Greenbelt Metro West</th>\n",
       "      <td>1.0</td>\n",
       "      <td>-84</td>\n",
       "      <td>34</td>\n",
       "      <td>23</td>\n",
       "    </tr>\n",
       "    <tr>\n",
       "      <th>Guilford Drive</th>\n",
       "      <td>-27.0</td>\n",
       "      <td>743</td>\n",
       "      <td>-218</td>\n",
       "      <td>-384</td>\n",
       "    </tr>\n",
       "    <tr>\n",
       "      <th>Hollywood Shopping Center</th>\n",
       "      <td>-22.0</td>\n",
       "      <td>350</td>\n",
       "      <td>-193</td>\n",
       "      <td>-130</td>\n",
       "    </tr>\n",
       "    <tr>\n",
       "      <th>McKeldin Mall</th>\n",
       "      <td>19.0</td>\n",
       "      <td>-433</td>\n",
       "      <td>108</td>\n",
       "      <td>246</td>\n",
       "    </tr>\n",
       "    <tr>\n",
       "      <th>Monument Village</th>\n",
       "      <td>-5.0</td>\n",
       "      <td>316</td>\n",
       "      <td>-23</td>\n",
       "      <td>-130</td>\n",
       "    </tr>\n",
       "    <tr>\n",
       "      <th>Mowatt Lane</th>\n",
       "      <td>-13.0</td>\n",
       "      <td>-175</td>\n",
       "      <td>157</td>\n",
       "      <td>32</td>\n",
       "    </tr>\n",
       "    <tr>\n",
       "      <th>North Stem</th>\n",
       "      <td>26.0</td>\n",
       "      <td>-251</td>\n",
       "      <td>-233</td>\n",
       "      <td>0</td>\n",
       "    </tr>\n",
       "    <tr>\n",
       "      <th>Northgate</th>\n",
       "      <td>-16.0</td>\n",
       "      <td>-215</td>\n",
       "      <td>-231</td>\n",
       "      <td>93</td>\n",
       "    </tr>\n",
       "    <tr>\n",
       "      <th>Queens Chapel</th>\n",
       "      <td>0.0</td>\n",
       "      <td>182</td>\n",
       "      <td>-8</td>\n",
       "      <td>-49</td>\n",
       "    </tr>\n",
       "    <tr>\n",
       "      <th>Regents Drive</th>\n",
       "      <td>-18.0</td>\n",
       "      <td>-1053</td>\n",
       "      <td>242</td>\n",
       "      <td>482</td>\n",
       "    </tr>\n",
       "    <tr>\n",
       "      <th>Ritchie</th>\n",
       "      <td>-27.0</td>\n",
       "      <td>-18</td>\n",
       "      <td>-219</td>\n",
       "      <td>-47</td>\n",
       "    </tr>\n",
       "    <tr>\n",
       "      <th>Riversdale Park</th>\n",
       "      <td>-7.0</td>\n",
       "      <td>276</td>\n",
       "      <td>-144</td>\n",
       "      <td>-143</td>\n",
       "    </tr>\n",
       "    <tr>\n",
       "      <th>South Campus Dining Hall</th>\n",
       "      <td>13.0</td>\n",
       "      <td>259</td>\n",
       "      <td>137</td>\n",
       "      <td>-184</td>\n",
       "    </tr>\n",
       "    <tr>\n",
       "      <th>Stamp Student Union</th>\n",
       "      <td>22.0</td>\n",
       "      <td>-160</td>\n",
       "      <td>654</td>\n",
       "      <td>194</td>\n",
       "    </tr>\n",
       "    <tr>\n",
       "      <th>The Hotel</th>\n",
       "      <td>7.0</td>\n",
       "      <td>-175</td>\n",
       "      <td>104</td>\n",
       "      <td>-15</td>\n",
       "    </tr>\n",
       "    <tr>\n",
       "      <th>University View</th>\n",
       "      <td>17.0</td>\n",
       "      <td>205</td>\n",
       "      <td>-126</td>\n",
       "      <td>-173</td>\n",
       "    </tr>\n",
       "    <tr>\n",
       "      <th>Wells Parkway</th>\n",
       "      <td>0.0</td>\n",
       "      <td>42</td>\n",
       "      <td>-64</td>\n",
       "      <td>-47</td>\n",
       "    </tr>\n",
       "  </tbody>\n",
       "</table>\n",
       "</div>"
      ],
      "text/plain": [
       "                           Morning Usage  Mid-day Usage  Evening Usage  \\\n",
       "Art Walk Station                     NaN           -209            227   \n",
       "Berwyn Trolley Trail                -6.0            686           -234   \n",
       "Cambria Suites                     -14.0            144              0   \n",
       "City Hall                           34.0            242           -261   \n",
       "College Park Metro West            -20.0           -637            363   \n",
       "Courtyards                          -6.0            124           -101   \n",
       "Eppley                             -68.0            146           -156   \n",
       "Greenbelt Metro West                 1.0            -84             34   \n",
       "Guilford Drive                     -27.0            743           -218   \n",
       "Hollywood Shopping Center          -22.0            350           -193   \n",
       "McKeldin Mall                       19.0           -433            108   \n",
       "Monument Village                    -5.0            316            -23   \n",
       "Mowatt Lane                        -13.0           -175            157   \n",
       "North Stem                          26.0           -251           -233   \n",
       "Northgate                          -16.0           -215           -231   \n",
       "Queens Chapel                        0.0            182             -8   \n",
       "Regents Drive                      -18.0          -1053            242   \n",
       "Ritchie                            -27.0            -18           -219   \n",
       "Riversdale Park                     -7.0            276           -144   \n",
       "South Campus Dining Hall            13.0            259            137   \n",
       "Stamp Student Union                 22.0           -160            654   \n",
       "The Hotel                            7.0           -175            104   \n",
       "University View                     17.0            205           -126   \n",
       "Wells Parkway                        0.0             42            -64   \n",
       "\n",
       "                           Late Usage  \n",
       "Art Walk Station                   -6  \n",
       "Berwyn Trolley Trail             -408  \n",
       "Cambria Suites                    -65  \n",
       "City Hall                        -187  \n",
       "College Park Metro West           261  \n",
       "Courtyards                        -54  \n",
       "Eppley                            205  \n",
       "Greenbelt Metro West               23  \n",
       "Guilford Drive                   -384  \n",
       "Hollywood Shopping Center        -130  \n",
       "McKeldin Mall                     246  \n",
       "Monument Village                 -130  \n",
       "Mowatt Lane                        32  \n",
       "North Stem                          0  \n",
       "Northgate                          93  \n",
       "Queens Chapel                     -49  \n",
       "Regents Drive                     482  \n",
       "Ritchie                           -47  \n",
       "Riversdale Park                  -143  \n",
       "South Campus Dining Hall         -184  \n",
       "Stamp Student Union               194  \n",
       "The Hotel                         -15  \n",
       "University View                  -173  \n",
       "Wells Parkway                     -47  "
      ]
     },
     "execution_count": 194,
     "metadata": {},
     "output_type": "execute_result"
    }
   ],
   "source": [
    "\n",
    "dfBigCat = pd.concat([dfCombM, dfCombMid, dfCombEve, dfCombLate], axis=1, join='outer')\n",
    "\n",
    "\n",
    "\n",
    "\n",
    "\n",
    "\n",
    "dfBigCat.head(24)\n"
   ]
  },
  {
   "cell_type": "code",
   "execution_count": 94,
   "metadata": {},
   "outputs": [
    {
     "data": {
      "text/html": [
       "<div>\n",
       "<style scoped>\n",
       "    .dataframe tbody tr th:only-of-type {\n",
       "        vertical-align: middle;\n",
       "    }\n",
       "\n",
       "    .dataframe tbody tr th {\n",
       "        vertical-align: top;\n",
       "    }\n",
       "\n",
       "    .dataframe thead th {\n",
       "        text-align: right;\n",
       "    }\n",
       "</style>\n",
       "<table border=\"1\" class=\"dataframe\">\n",
       "  <thead>\n",
       "    <tr style=\"text-align: right;\">\n",
       "      <th></th>\n",
       "      <th>Coords_Latitude</th>\n",
       "      <th>Coords_Longitude</th>\n",
       "      <th>Trip_ID</th>\n",
       "      <th>Bike_Event</th>\n",
       "      <th>User_ID</th>\n",
       "      <th>Date_Time</th>\n",
       "      <th>Date</th>\n",
       "      <th>Time</th>\n",
       "      <th>StationName</th>\n",
       "      <th>Day</th>\n",
       "    </tr>\n",
       "  </thead>\n",
       "  <tbody>\n",
       "    <tr>\n",
       "      <th>3287</th>\n",
       "      <td>38.989979</td>\n",
       "      <td>-76.940757</td>\n",
       "      <td>cvaLjh9vKtcdeQhrM</td>\n",
       "      <td>EndTripInsideGeofence</td>\n",
       "      <td>292B39TcJhzNwQuDf</td>\n",
       "      <td>2018-04-23 13:06:02</td>\n",
       "      <td>2018-04-23</td>\n",
       "      <td>13:06:02</td>\n",
       "      <td>Regents Drive</td>\n",
       "      <td>0</td>\n",
       "    </tr>\n",
       "    <tr>\n",
       "      <th>3289</th>\n",
       "      <td>38.978129</td>\n",
       "      <td>-76.929079</td>\n",
       "      <td>ejjmjSNr54JWH9max</td>\n",
       "      <td>StartTrip</td>\n",
       "      <td>292B39TcJhzNwQuDf</td>\n",
       "      <td>2018-04-24 12:01:19</td>\n",
       "      <td>2018-04-24</td>\n",
       "      <td>12:01:19</td>\n",
       "      <td>College Park Metro West</td>\n",
       "      <td>1</td>\n",
       "    </tr>\n",
       "    <tr>\n",
       "      <th>3323</th>\n",
       "      <td>38.989979</td>\n",
       "      <td>-76.940757</td>\n",
       "      <td>qpZpMNkiJkJ4vmBpB</td>\n",
       "      <td>StartTrip</td>\n",
       "      <td>292B39TcJhzNwQuDf</td>\n",
       "      <td>2018-04-25 20:43:46</td>\n",
       "      <td>2018-04-25</td>\n",
       "      <td>20:43:46</td>\n",
       "      <td>Regents Drive</td>\n",
       "      <td>2</td>\n",
       "    </tr>\n",
       "    <tr>\n",
       "      <th>3381</th>\n",
       "      <td>38.978129</td>\n",
       "      <td>-76.929079</td>\n",
       "      <td>qpZpMNkiJkJ4vmBpB</td>\n",
       "      <td>EndTripInsideGeofence</td>\n",
       "      <td>292B39TcJhzNwQuDf</td>\n",
       "      <td>2018-04-25 20:51:46</td>\n",
       "      <td>2018-04-25</td>\n",
       "      <td>20:51:46</td>\n",
       "      <td>College Park Metro West</td>\n",
       "      <td>2</td>\n",
       "    </tr>\n",
       "    <tr>\n",
       "      <th>3382</th>\n",
       "      <td>38.987377</td>\n",
       "      <td>-76.944026</td>\n",
       "      <td>dLxcJ43rmJLZ7Mv2N</td>\n",
       "      <td>StartTrip</td>\n",
       "      <td>292B39TcJhzNwQuDf</td>\n",
       "      <td>2018-04-27 20:34:16</td>\n",
       "      <td>2018-04-27</td>\n",
       "      <td>20:34:16</td>\n",
       "      <td>Stamp Student Union</td>\n",
       "      <td>4</td>\n",
       "    </tr>\n",
       "  </tbody>\n",
       "</table>\n",
       "</div>"
      ],
      "text/plain": [
       "      Coords_Latitude  Coords_Longitude            Trip_ID  \\\n",
       "3287        38.989979        -76.940757  cvaLjh9vKtcdeQhrM   \n",
       "3289        38.978129        -76.929079  ejjmjSNr54JWH9max   \n",
       "3323        38.989979        -76.940757  qpZpMNkiJkJ4vmBpB   \n",
       "3381        38.978129        -76.929079  qpZpMNkiJkJ4vmBpB   \n",
       "3382        38.987377        -76.944026  dLxcJ43rmJLZ7Mv2N   \n",
       "\n",
       "                 Bike_Event            User_ID           Date_Time  \\\n",
       "3287  EndTripInsideGeofence  292B39TcJhzNwQuDf 2018-04-23 13:06:02   \n",
       "3289              StartTrip  292B39TcJhzNwQuDf 2018-04-24 12:01:19   \n",
       "3323              StartTrip  292B39TcJhzNwQuDf 2018-04-25 20:43:46   \n",
       "3381  EndTripInsideGeofence  292B39TcJhzNwQuDf 2018-04-25 20:51:46   \n",
       "3382              StartTrip  292B39TcJhzNwQuDf 2018-04-27 20:34:16   \n",
       "\n",
       "            Date      Time              StationName  Day  \n",
       "3287  2018-04-23  13:06:02            Regents Drive    0  \n",
       "3289  2018-04-24  12:01:19  College Park Metro West    1  \n",
       "3323  2018-04-25  20:43:46            Regents Drive    2  \n",
       "3381  2018-04-25  20:51:46  College Park Metro West    2  \n",
       "3382  2018-04-27  20:34:16      Stamp Student Union    4  "
      ]
     },
     "execution_count": 94,
     "metadata": {},
     "output_type": "execute_result"
    }
   ],
   "source": [
    "df.head(5)"
   ]
  },
  {
   "cell_type": "code",
   "execution_count": null,
   "metadata": {},
   "outputs": [],
   "source": [
    "#Can I make a plot of all routes, weighted by freq\n",
    "folium.PolyLine(points, color=\"red\", weight=2.5, opacity=1).add_to(my_map)\n",
    "\n",
    "\n",
    "'''\n",
    "#for each time interval:\n",
    "def timeSectionTable():\n",
    "    \n",
    "    dfCountsS = pd.DataFrame(dfStart.StationName.value_counts())#Returns a series in descending order, converts to df\n",
    "    dfCountsE = pd.DataFrame(dfEnd.StationName.value_counts())\n",
    "    dfCountsS.columns = ['StartFreq']\n",
    "    dfCountsE.columns = ['EndFreq']\n",
    "    # dfmergeSE consists of Stations and info, and the number of start/end trips.\n",
    "    dfmergeS = dfStation.join(dfPlot, on='Name')\n",
    "    dfmergeSE = dfmergeS.join(dfPlot1, on='Name')\n",
    "    dfmergeSE['Diff'] = dfmergeSE['StartFreq']-dfmergeSE['EndFreq']\n",
    "    dfmergeSE['Total'] = dfmergeSE['StartFreq']+dfmergeSE['EndFreq']\n",
    "    '''"
   ]
  }
 ],
 "metadata": {
  "kernelspec": {
   "display_name": "Python 3",
   "language": "python",
   "name": "python3"
  },
  "language_info": {
   "codemirror_mode": {
    "name": "ipython",
    "version": 3
   },
   "file_extension": ".py",
   "mimetype": "text/x-python",
   "name": "python",
   "nbconvert_exporter": "python",
   "pygments_lexer": "ipython3",
   "version": "3.7.1"
  }
 },
 "nbformat": 4,
 "nbformat_minor": 2
}
