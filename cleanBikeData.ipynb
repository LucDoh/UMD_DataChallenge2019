{
 "cells": [
  {
   "cell_type": "markdown",
   "metadata": {},
   "source": [
    "# Clean and transform Bikeshare data to more useful formats"
   ]
  },
  {
   "cell_type": "code",
   "execution_count": 8,
   "metadata": {},
   "outputs": [
    {
     "name": "stdout",
     "output_type": "stream",
     "text": [
      "DF size is 1851924\n"
     ]
    },
    {
     "data": {
      "text/html": [
       "<div>\n",
       "<style scoped>\n",
       "    .dataframe tbody tr th:only-of-type {\n",
       "        vertical-align: middle;\n",
       "    }\n",
       "\n",
       "    .dataframe tbody tr th {\n",
       "        vertical-align: top;\n",
       "    }\n",
       "\n",
       "    .dataframe thead th {\n",
       "        text-align: right;\n",
       "    }\n",
       "</style>\n",
       "<table border=\"1\" class=\"dataframe\">\n",
       "  <thead>\n",
       "    <tr style=\"text-align: right;\">\n",
       "      <th></th>\n",
       "      <th>Coords_Latitude</th>\n",
       "      <th>Coords_Longitude</th>\n",
       "      <th>Trip_ID</th>\n",
       "      <th>Bike_Event</th>\n",
       "      <th>User_ID</th>\n",
       "      <th>Date_Time</th>\n",
       "      <th>Date</th>\n",
       "      <th>Time</th>\n",
       "    </tr>\n",
       "  </thead>\n",
       "  <tbody>\n",
       "    <tr>\n",
       "      <th>0</th>\n",
       "      <td>38.978141</td>\n",
       "      <td>-76.928956</td>\n",
       "      <td>Hf3aj78RcGaJJMGRn</td>\n",
       "      <td>StartTrip</td>\n",
       "      <td>24Tswou857XKT9R65</td>\n",
       "      <td>2017-06-14T19:02:21.593Z</td>\n",
       "      <td>2017-06-14</td>\n",
       "      <td>19:02:21</td>\n",
       "    </tr>\n",
       "    <tr>\n",
       "      <th>1</th>\n",
       "      <td>38.978200</td>\n",
       "      <td>-76.928471</td>\n",
       "      <td>tp7QKuiJX9DvLKDcf</td>\n",
       "      <td>StartTrip</td>\n",
       "      <td>24Tswou857XKT9R65</td>\n",
       "      <td>2017-06-15T20:07:14.437Z</td>\n",
       "      <td>2017-06-15</td>\n",
       "      <td>20:07:14</td>\n",
       "    </tr>\n",
       "    <tr>\n",
       "      <th>2</th>\n",
       "      <td>38.972647</td>\n",
       "      <td>-76.938315</td>\n",
       "      <td>tp7QKuiJX9DvLKDcf</td>\n",
       "      <td>EndTripInsideGeofence</td>\n",
       "      <td>24Tswou857XKT9R65</td>\n",
       "      <td>2017-06-15T20:19:43.891Z</td>\n",
       "      <td>2017-06-15</td>\n",
       "      <td>20:19:43</td>\n",
       "    </tr>\n",
       "    <tr>\n",
       "      <th>3</th>\n",
       "      <td>38.978369</td>\n",
       "      <td>-76.928679</td>\n",
       "      <td>j7xEWoy65rDsJfk7M</td>\n",
       "      <td>StartTrip</td>\n",
       "      <td>24Tswou857XKT9R65</td>\n",
       "      <td>2017-06-17T22:25:55.592Z</td>\n",
       "      <td>2017-06-17</td>\n",
       "      <td>22:25:55</td>\n",
       "    </tr>\n",
       "    <tr>\n",
       "      <th>4</th>\n",
       "      <td>38.972581</td>\n",
       "      <td>-76.938422</td>\n",
       "      <td>j7xEWoy65rDsJfk7M</td>\n",
       "      <td>EndTripInsideGeofence</td>\n",
       "      <td>24Tswou857XKT9R65</td>\n",
       "      <td>2017-06-17T22:36:07.021Z</td>\n",
       "      <td>2017-06-17</td>\n",
       "      <td>22:36:07</td>\n",
       "    </tr>\n",
       "  </tbody>\n",
       "</table>\n",
       "</div>"
      ],
      "text/plain": [
       "   Coords_Latitude  Coords_Longitude            Trip_ID  \\\n",
       "0        38.978141        -76.928956  Hf3aj78RcGaJJMGRn   \n",
       "1        38.978200        -76.928471  tp7QKuiJX9DvLKDcf   \n",
       "2        38.972647        -76.938315  tp7QKuiJX9DvLKDcf   \n",
       "3        38.978369        -76.928679  j7xEWoy65rDsJfk7M   \n",
       "4        38.972581        -76.938422  j7xEWoy65rDsJfk7M   \n",
       "\n",
       "              Bike_Event            User_ID                 Date_Time  \\\n",
       "0              StartTrip  24Tswou857XKT9R65  2017-06-14T19:02:21.593Z   \n",
       "1              StartTrip  24Tswou857XKT9R65  2017-06-15T20:07:14.437Z   \n",
       "2  EndTripInsideGeofence  24Tswou857XKT9R65  2017-06-15T20:19:43.891Z   \n",
       "3              StartTrip  24Tswou857XKT9R65  2017-06-17T22:25:55.592Z   \n",
       "4  EndTripInsideGeofence  24Tswou857XKT9R65  2017-06-17T22:36:07.021Z   \n",
       "\n",
       "         Date      Time  \n",
       "0  2017-06-14  19:02:21  \n",
       "1  2017-06-15  20:07:14  \n",
       "2  2017-06-15  20:19:43  \n",
       "3  2017-06-17  22:25:55  \n",
       "4  2017-06-17  22:36:07  "
      ]
     },
     "execution_count": 8,
     "metadata": {},
     "output_type": "execute_result"
    }
   ],
   "source": [
    "import sys\n",
    "import folium\n",
    "import pandas as pd\n",
    "import seaborn as sns\n",
    "import numpy as np\n",
    "import matplotlib.pyplot as plt\n",
    "from folium.plugins import HeatMap\n",
    "\n",
    "df = pd.read_csv('../data/mbike.csv')\n",
    "print(\"DF size is \" + str(len(df.index)))\n",
    "df.head(5)\n"
   ]
  },
  {
   "cell_type": "markdown",
   "metadata": {},
   "source": [
    "## Cleaning Data "
   ]
  },
  {
   "cell_type": "markdown",
   "metadata": {},
   "source": [
    "### 1)Remove anomalies (i.e. not in region of interest)"
   ]
  },
  {
   "cell_type": "code",
   "execution_count": 9,
   "metadata": {},
   "outputs": [
    {
     "name": "stdout",
     "output_type": "stream",
     "text": [
      "-76.89956394962675 39.03136761862695\n",
      "-76.96882684758906 38.9679312\n",
      "3.96% of data was not in ROI.\n"
     ]
    }
   ],
   "source": [
    "# (Top right corner - Beltsville Powder Mill Rd & Edmonston Rd (39.031398, -76.899542) [BR]\n",
    "# (Bottom Left corner - Near Prince George's Plaza(38.967931, -76.968837))\n",
    "dfz = df.copy()\n",
    "LatTR, LongTR = [39.031398, -76.899542]\n",
    "LatBL, LongBL = [38.967931,-76.968837]\n",
    "\n",
    "dfz = dfz[(dfz['Coords_Latitude'] <= LatTR) & (dfz['Coords_Latitude'] >= LatBL)]\n",
    "dfz = dfz[(dfz['Coords_Longitude'] <= LongTR) & (dfz['Coords_Longitude'] >= LongBL)]\n",
    "#Check the min/max to make sure they're reasonable now:\n",
    "print(dfz['Coords_Longitude'].max(), dfz['Coords_Latitude'].max())\n",
    "print(dfz['Coords_Longitude'].min(), dfz['Coords_Latitude'].min())\n",
    "print(str(round((abs((len(dfz.index) - len(df.index)))/len(df.index))*100,2)) +'% of data was not in ROI.')"
   ]
  },
  {
   "cell_type": "markdown",
   "metadata": {},
   "source": [
    "### 2) Remove duplicate events with same trip_ID"
   ]
  },
  {
   "cell_type": "code",
   "execution_count": 10,
   "metadata": {},
   "outputs": [
    {
     "name": "stdout",
     "output_type": "stream",
     "text": [
      "79222\n",
      "******************************************************\n",
      "       Coords_Latitude  Coords_Longitude            Trip_ID  \\\n",
      "54191        38.992974        -76.937454  L3QADAJtdmgLdenDj   \n",
      "54192        38.992974        -76.937454  L3QADAJtdmgLdenDj   \n",
      "54194        38.993227        -76.941564  L3QADAJtdmgLdenDj   \n",
      "\n",
      "                  Bike_Event            User_ID                 Date_Time  \\\n",
      "54191              StartTrip  36xxpQuhZWX7oAwdD  2017-07-20T13:46:48.005Z   \n",
      "54192             Foreground  36xxpQuhZWX7oAwdD  2017-07-20T13:46:58.407Z   \n",
      "54194  EndTripInsideGeofence  36xxpQuhZWX7oAwdD  2017-07-20T14:35:43.494Z   \n",
      "\n",
      "             Date      Time  \n",
      "54191  2017-07-20  13:46:48  \n",
      "54192  2017-07-20  13:46:58  \n",
      "54194  2017-07-20  14:35:43  \n"
     ]
    }
   ],
   "source": [
    "#Removing duplicates where Trip_ID and Bike_Event are the same. This will remove rows corresponding to \n",
    "#multiple foreground/background events\n",
    "print(len(dfz.Trip_ID.unique())) #79,222 unique trips in the ROI\n",
    "#print(dfz[dfz['Trip_ID']== 'L3QADAJtdmgLdenDj'])\n",
    "dfz_noDupes = dfz.drop_duplicates(subset=[\"Trip_ID\", 'Bike_Event'])\n",
    "len(dfz_noDupes[dfz_noDupes['Trip_ID']== 'L3QADAJtdmgLdenDj'])\n",
    "print(dfz_noDupes[dfz_noDupes['Trip_ID']== 'L3QADAJtdmgLdenDj'])"
   ]
  },
  {
   "cell_type": "markdown",
   "metadata": {},
   "source": [
    "### 3)  Convert lat/long to closest station, so each event is associated with the station it occurs at."
   ]
  },
  {
   "cell_type": "code",
   "execution_count": 11,
   "metadata": {},
   "outputs": [
    {
     "name": "stdout",
     "output_type": "stream",
     "text": [
      "499354\n",
      "156602\n"
     ]
    }
   ],
   "source": [
    "#First, we only care about start and end trips, since other types of events can be far from the station.\n",
    "print(len(dfz_noDupes.index)) #499354 non-duplicate events\n",
    "\n",
    "dfx = dfz_noDupes[(dfz_noDupes['Bike_Event'] == 'StartTrip') | (dfz_noDupes['Bike_Event'] == 'EndTripInsideGeofence') | (dfz_noDupes['Bike_Event'] == 'EndTripStoppedByGeofence') |(dfz_noDupes['Bike_Event'] == 'EndTripBypassGeofence')]\n",
    "dfx.Bike_Event.unique() #'StartTrip','EndTripInsideGeofence','EndTripStoppedByGeofence','EndTripBypassGeofence\n",
    "print(len(dfx.index)) #156602"
   ]
  },
  {
   "cell_type": "code",
   "execution_count": 19,
   "metadata": {},
   "outputs": [
    {
     "name": "stdout",
     "output_type": "stream",
     "text": [
      "                        Name  Altitude  Longitude   Latitude\n",
      "0  Hollywood Shopping Center        42 -76.921340  39.013710\n",
      "1       Greenbelt Metro West        30 -76.913859  39.010546\n"
     ]
    }
   ],
   "source": [
    "#Get a dataframe of stations and their lat/longs\n",
    "dfStations = pd.read_csv('../data/stationsInfo.csv')\n",
    "print(dfStations.head(2))"
   ]
  },
  {
   "cell_type": "code",
   "execution_count": 20,
   "metadata": {},
   "outputs": [
    {
     "name": "stdout",
     "output_type": "stream",
     "text": [
      "   Coords_Latitude  Coords_Longitude            Trip_ID Bike_Event  \\\n",
      "0        38.978141        -76.928956  Hf3aj78RcGaJJMGRn  StartTrip   \n",
      "1        38.978200        -76.928471  tp7QKuiJX9DvLKDcf  StartTrip   \n",
      "\n",
      "             User_ID                 Date_Time        Date      Time  \\\n",
      "0  24Tswou857XKT9R65  2017-06-14T19:02:21.593Z  2017-06-14  19:02:21   \n",
      "1  24Tswou857XKT9R65  2017-06-15T20:07:14.437Z  2017-06-15  20:07:14   \n",
      "\n",
      "  StationName  \n",
      "0        None  \n",
      "1        None  \n"
     ]
    }
   ],
   "source": [
    "df_withStation = dfx.copy()\n",
    "df_withStation['StationName'] = None\n",
    "print(df_withStation.head(2))"
   ]
  },
  {
   "cell_type": "code",
   "execution_count": 14,
   "metadata": {},
   "outputs": [],
   "source": [
    "def getDist(long1,lat1,long2,lat2):\n",
    "    return np.sqrt((long1-long2)**2 + (lat1-lat2)**2)\n",
    "\n",
    "def getClosestStation(row,dfStations):\n",
    "    long = row['Coords_Longitude']\n",
    "    lat = row['Coords_Latitude']\n",
    "    shortestDist = sys.float_info.max\n",
    "    for i in range (0,len(dfStations.index)):\n",
    "        d = getDist(long,lat,dfStations.iloc[i].Longitude,dfStations.iloc[i].Latitude)\n",
    "        if (d < shortestDist): \n",
    "            shortestDist = d\n",
    "            longF = dfStations.iloc[i].Longitude\n",
    "            latF = dfStations.iloc[i].Latitude\n",
    "            stationName = dfStations.iloc[i].Name\n",
    "    return pd.Series([latF,longF, stationName])\n",
    "\n",
    "df_withStation = dfx.copy()\n",
    "df_withStation['StationName'] = None\n",
    "df_withStation[['Coords_Latitude','Coords_Longitude','StationName']] = dfx.apply(getClosestStation,args=(dfStations,), axis=1)\n"
   ]
  },
  {
   "cell_type": "markdown",
   "metadata": {},
   "source": [
    "## Save Start/End trips with associated stations to CSV"
   ]
  },
  {
   "cell_type": "code",
   "execution_count": null,
   "metadata": {},
   "outputs": [],
   "source": [
    "df_withStation.to_csv('transformedData/mbike_NamedStations_StartEndOnly.csv')\n",
    "df_withStation.head(2)"
   ]
  },
  {
   "cell_type": "markdown",
   "metadata": {},
   "source": [
    "## Plotting"
   ]
  },
  {
   "cell_type": "markdown",
   "metadata": {},
   "source": [
    "### Plot each station using Folium"
   ]
  },
  {
   "cell_type": "code",
   "execution_count": 18,
   "metadata": {},
   "outputs": [
    {
     "data": {
      "text/html": [
       "<div style=\"width:100%;\"><div style=\"position:relative;width:100%;height:0;padding-bottom:60%;\"><iframe src=\"data:text/html;charset=utf-8;base64,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\" style=\"position:absolute;width:100%;height:100%;left:0;top:0;border:none !important;\" allowfullscreen webkitallowfullscreen mozallowfullscreen></iframe></div></div>"
      ],
      "text/plain": [
       "<folium.folium.Map at 0x7f0598ab3438>"
      ]
     },
     "execution_count": 18,
     "metadata": {},
     "output_type": "execute_result"
    }
   ],
   "source": [
    "map_CP = folium.Map(location=[dfStations.Latitude.mean(), dfStations.Longitude.mean()], zoom_start=15)\n",
    "for i in range (0,len(dfStations.index)):\n",
    "    lat = dfStations.Latitude.iloc[i]\n",
    "    long = dfStations.Longitude.iloc[i]\n",
    "    folium.Circle(\n",
    "        location=[lat, long],\n",
    "        #popup=data.iloc[i]['name'],\n",
    "        radius=50,\n",
    "        color='crimson',\n",
    "        fill=True,\n",
    "        fill_color='crimson'\n",
    "    ).add_to(map_CP)\n",
    "map_CP"
   ]
  }
 ],
 "metadata": {
  "kernelspec": {
   "display_name": "Python 3",
   "language": "python",
   "name": "python3"
  },
  "language_info": {
   "codemirror_mode": {
    "name": "ipython",
    "version": 3
   },
   "file_extension": ".py",
   "mimetype": "text/x-python",
   "name": "python",
   "nbconvert_exporter": "python",
   "pygments_lexer": "ipython3",
   "version": "3.7.1"
  }
 },
 "nbformat": 4,
 "nbformat_minor": 2
}
